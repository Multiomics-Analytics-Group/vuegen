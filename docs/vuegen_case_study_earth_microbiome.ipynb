{
 "cells": [
  {
   "cell_type": "markdown",
   "metadata": {},
   "source": [
    "# Vuegen Case Study - Earth Microbiome Project\n",
    "\n",
    "<a href=\"https://colab.research.google.com/github/Multiomics-Analytics-Group/vuegen/blob/main/docs/vuegen_case_study_earth_microbiome.ipynb\" target=\"_parent\"><img src=\"https://colab.research.google.com/assets/colab-badge.svg\" alt=\"Open In Colab\"/></a>\n",
    "\n",
    "This notebook is a demo of the Vuegen Python library. This sofwtare automates the creation of reports based on a directory with plots, dataframes, and other files in different formats. A YAML configuration file is generated from the directory to define the structure of the report. Users can customize the report by modifying the configuration file, or they can create their own configuration file instead of passing a directory as input. \n",
    "\n",
    "The configuration file specifies the structure of the report, including sections, subsections, and various components such as plots, dataframes, markdown, html, and API calls. Reports can be generated in various formats, including documents (PDF, HTML, DOCX, ODT), presentations (PPTX, Reveal.js), notebooks (Jupyter) or Streamlit web applications.\n",
    "\n",
    "An overview of the VueGen workflow is shown in the figure below:\n",
    "\n",
    "![Vuegen graphical abstarct](./images/vuegen_graph_abstract.png)\n",
    "\n",
    "## About the data\n",
    "\n",
    "The Earth Microbiome Project (EMP) is a systematic attempt to characterize global microbial taxonomic and functional diversity for the benefit of the planet and humankind. It aimed to sample the Earth’s microbial communities at an unprecedented scale in order to advance our understanding of the organizing biogeographic principles that govern microbial community structure. The EMP dataset is generated from samples that individual researchers have compiled and contributed to the EMP. The result is both a reference database giving global context to DNA sequence data and a framework for incorporating data from future studies, fostering increasingly complete characterization of Earth’s microbial diversity.\n",
    "\n",
    "The data and scripts for this project are available on the [EMP GitHub repository][emp_repo], and addtional details can be found in the original article by [Thompson et al. (2017)][emp_paper].\n",
    "\n",
    "## Notebook structure\n",
    "\n",
    "First, we will set up the work environment by installing the necessary packages and importing the required libraries. Then, we will create various plots and tables on the exploratory data analysis, metagenomics, and network analysis sections. Next, we will create a report using Vuegen, including the plots and tables generated in the previous sections. Finally, we will extend the report by modifying the configuration file to include additional components.\n",
    "\n",
    "0. [Work environment setup](#0-work-environment-setup)\n",
    "1. [Exploratory data analysis](#1-exploratory-data-analysis)\n",
    "2. [Metagenomics](#2-metagenomics)\n",
    "3. [Network analysis](#3-network-analysis)\n",
    "4. [Report generation](#4-report-generation)\n",
    "5. [Extending the report](#5-extending-the-report)\n",
    "\n",
    "## Credits and Contributors\n",
    "- This notebook was created by Sebastián Ayala-Ruano under the supervision of Henry Webel and Alberto Santos, head of the [Multiomics Network Analytics Group (MoNA)][Mona] at the [Novo Nordisk Foundation Center for Biosustainability (DTU Biosustain)][Biosustain].\n",
    "- Part of this notebook's code was inspired by the scripts and notebooks from the [EMP GitHub repository][emp_repo].\n",
    "- You can find more details about the project in this [GitHub repository][githubrepo].\n",
    "\n",
    "[emp_repo]: https://github.com/biocore/emp/tree/master\n",
    "[emp_paper]: https://www.nature.com/articles/nature24621\n",
    "[Mona]: https://multiomics-analytics-group.github.io/\n",
    "[Biosustain]: https://www.biosustain.dtu.dk/\n",
    "[githubrepo]: https://github.com/Multiomics-Analytics-Group/vuegen\n"
   ]
  },
  {
   "cell_type": "markdown",
   "metadata": {},
   "source": [
    "## 0. Work environment setup"
   ]
  },
  {
   "cell_type": "markdown",
   "metadata": {},
   "source": [
    "### 0.1. Installing libraries"
   ]
  },
  {
   "cell_type": "code",
   "execution_count": null,
   "metadata": {},
   "outputs": [],
   "source": [
    "# Vuegen library \n",
    "%pip install vuegen"
   ]
  },
  {
   "cell_type": "code",
   "execution_count": null,
   "metadata": {},
   "outputs": [],
   "source": [
    "# Libraries for the notebook\n",
    "%pip install cartopy seaborn biom-format"
   ]
  },
  {
   "cell_type": "markdown",
   "metadata": {},
   "source": [
    "### 0.2. Importing libraries"
   ]
  },
  {
   "cell_type": "code",
   "execution_count": 27,
   "metadata": {},
   "outputs": [],
   "source": [
    "# Imports\n",
    "import os\n",
    "import yaml\n",
    "import requests\n",
    "\n",
    "import pandas as pd\n",
    "import numpy as np\n",
    "import matplotlib.pyplot as plt\n",
    "import cartopy.crs as ccrs\n",
    "import cartopy.feature as cfeature\n",
    "import plotly.graph_objects as go\n",
    "import plotly.express as px\n",
    "import altair as alt\n",
    "import seaborn as sns\n",
    "\n",
    "import biom\n",
    "import networkx as nx\n",
    "\n",
    "from vuegen import report_generator\n",
    "from vuegen.utils import get_logger, load_yaml_config"
   ]
  },
  {
   "cell_type": "markdown",
   "metadata": {},
   "source": [
    "### 0.3. Working directory"
   ]
  },
  {
   "cell_type": "code",
   "execution_count": 28,
   "metadata": {},
   "outputs": [],
   "source": [
    "# Create the output directory\n",
    "base_output_dir = \"./example_data/Earth_microbiome_vuegen_demo_notebook/\"\n",
    "os.makedirs(base_output_dir, exist_ok=True)"
   ]
  },
  {
   "cell_type": "markdown",
   "metadata": {},
   "source": [
    "### 0.4. Markdown project description\n",
    "Create a markdown file with the project description to be displayed in the main page of the report. It is also possible to do this for the sections and subsections of the report by creating a `description.md` file in the corresponding directory."
   ]
  },
  {
   "cell_type": "code",
   "execution_count": 29,
   "metadata": {},
   "outputs": [],
   "source": [
    "# Create project description\n",
    "project_description = \"\"\"\n",
    "The Earth Microbiome Project (EMP) is a systematic attempt to characterize global microbial taxonomic and functional diversity for the benefit of the planet and humankind. \n",
    "It aimed to sample the Earth’s microbial communities at an unprecedented scale in order to advance our understanding of the organizing biogeographic principles that govern microbial community structure. \n",
    "The EMP dataset is generated from samples that individual researchers have compiled and contributed to the EMP. \n",
    "The result is both a reference database giving global context to DNA sequence data and a framework for incorporating data from future studies, fostering increasingly complete characterization of Earth’s microbial diversity.\n",
    "\n",
    "You can find more information about the Earth Microbiome Project at https://earthmicrobiome.org/ and in the [original article](https://www.nature.com/articles/nature24621).\n",
    "\"\"\"\n",
    "\n",
    "# Write the description to a file\n",
    "with open(os.path.join(base_output_dir, \"description.md\"), \"w\") as file:\n",
    "    file.write(project_description)"
   ]
  },
  {
   "cell_type": "markdown",
   "metadata": {},
   "source": [
    "### 0.5. Helper functions"
   ]
  },
  {
   "cell_type": "code",
   "execution_count": 30,
   "metadata": {},
   "outputs": [],
   "source": [
    "def get_empo_cat_color(empocat=None, returndict=False):\n",
    "    \"\"\"returns standard empo colors for EMP figures\n",
    "    input:\n",
    "    empocat- empo category name (string)\n",
    "    returndict-  the user needs the dictionary mapping category to color (boolean)\n",
    "    \n",
    "    output: either a color for passed empocat or the dictionay if returndict=True\"\"\"\n",
    "    \n",
    "    # hex codes for matplotlib colors are described here:\n",
    "    # https://github.com/matplotlib/matplotlib/blob/cf83cd5642506ef808853648b9eb409f8dbd6ff3/lib/matplotlib/_color_data.py\n",
    "\n",
    "    empo_cat_color={'EMP sample': '#929591', # 'grey'\n",
    "                    'Host-associated': '#fb9a99',\n",
    "                    'Free-living': '#e31a1c',\n",
    "                    'Animal': '#b2df8a',\n",
    "                    'Plant': '#33a02c',\n",
    "                    'Non-saline': '#a6cee3',\n",
    "                    'Saline': '#1f78b4',\n",
    "                    'Aerosol (non-saline)': '#d3d3d3', # 'lightgrey'\n",
    "                    'Animal corpus': '#ffff00', # 'yellow'\n",
    "                    'Animal distal gut': '#8b4513', # 'saddlebrown'\n",
    "                    'Animal proximal gut': '#d2b48c', # 'tan'\n",
    "                    'Animal secretion': '#f4a460', # 'sandybrown'\n",
    "                    'Animal surface': '#b8860b', # 'darkgoldenrod'\n",
    "                    'Hypersaline (saline)': '#87cefa', # 'lightskyblue'\n",
    "                    'Intertidal (saline)': '#afeeee', # 'paleturquoise'\n",
    "                    'Mock community': '#ff00ff', # 'fuchsia'\n",
    "                    'Plant corpus': '#7cfc00', # 'lawngreen'\n",
    "                    'Plant rhizosphere': '#006400', # 'darkgreen'\n",
    "                    'Plant surface': '#00fa9a', # 'mediumspringgreen'\n",
    "                    'Sediment (non-saline)': '#ffa07a', # 'lightsalmon'\n",
    "                    'Sediment (saline)': '#ff6347', # 'tomato'\n",
    "                    'Soil (non-saline)': '#ff0000', # 'red'\n",
    "                    'Sterile water blank': '#ee82ee', # 'violet'\n",
    "                    'Surface (non-saline)': '#000000', # 'black'\n",
    "                    'Surface (saline)': '#696969', # 'dimgrey'\n",
    "                    'Water (non-saline)': '#000080', # 'navy'\n",
    "                    'Water (saline)': '#4169e1' # 'royalblue'\n",
    "                    }\n",
    "    \n",
    "    if returndict==True:\n",
    "        return empo_cat_color\n",
    "    else:\n",
    "        return empo_cat_color[empocat]"
   ]
  },
  {
   "cell_type": "markdown",
   "metadata": {},
   "source": [
    "## 1. Exploratory data analysis"
   ]
  },
  {
   "cell_type": "markdown",
   "metadata": {},
   "source": [
    "### 1.1. Global scope of sample provenance\n",
    "Samples come from 7 continents, 43 countries, 21 biomes (ENVO), 92 environmental features (ENVO), and 17 environments (EMPO)."
   ]
  },
  {
   "cell_type": "markdown",
   "metadata": {},
   "source": [
    "#### 1.1.1. Load data and create section and subsection directories"
   ]
  },
  {
   "cell_type": "code",
   "execution_count": 31,
   "metadata": {},
   "outputs": [],
   "source": [
    "# Create the output directory for the EDA section and sample provenance subsection\n",
    "sample_prov_output_dir = os.path.join(base_output_dir, \"1_Exploratory_data_analysis/1_sample_exploration/\")\n",
    "os.makedirs(sample_prov_output_dir, exist_ok=True)\n",
    "\n",
    "# Load data and filter out control samples\n",
    "metadata_mapping = 'https://raw.githubusercontent.com//biocore/emp/master/data/mapping-files/emp_qiime_mapping_release1.tsv'\n",
    "metadata_mapping_df = pd.read_table(metadata_mapping, index_col=0)\n",
    "metadata_mapping_df = metadata_mapping_df[metadata_mapping_df['empo_1'] != 'Control']"
   ]
  },
  {
   "cell_type": "markdown",
   "metadata": {},
   "source": [
    "#### 1.1.2. Random subset of the metadata dataframe"
   ]
  },
  {
   "cell_type": "code",
   "execution_count": 32,
   "metadata": {},
   "outputs": [],
   "source": [
    "# Obtain a random sample of the metadata df with a random seed\n",
    "sample_metadata_mapping_df = metadata_mapping_df.sample(100, random_state=42)\n",
    "\n",
    "# Export the sample df as a CSV file\n",
    "sample_metadata_mapping_df.to_csv(f'{sample_prov_output_dir}/1_metadata_random_subset.csv')"
   ]
  },
  {
   "cell_type": "markdown",
   "metadata": {},
   "source": [
    "#### 1.1.3. Static map with matplotlib"
   ]
  },
  {
   "cell_type": "code",
   "execution_count": null,
   "metadata": {},
   "outputs": [],
   "source": [
    "# Extract Animal dataset\n",
    "animal_df = metadata_mapping_df[metadata_mapping_df[\"empo_2\"] == \"Animal\"]\n",
    "\n",
    "# Unique subcategories in empo_3\n",
    "animal_empo3 = animal_df[\"empo_3\"].unique()\n",
    "\n",
    "# Create a figure with Cartopy map projection\n",
    "fig, ax = plt.subplots(figsize=(12, 8), dpi=300, subplot_kw={'projection': ccrs.PlateCarree()})\n",
    "\n",
    "# Add features to the map\n",
    "ax.add_feature(cfeature.BORDERS, edgecolor='white', linewidth=0.5)\n",
    "ax.add_feature(cfeature.LAND, edgecolor='white', facecolor='lightgray', linewidth=0.5)\n",
    "ax.add_feature(cfeature.COASTLINE, edgecolor='white', linewidth=0.5)\n",
    "\n",
    "# Set extent (global map)\n",
    "ax.set_extent([-180, 180, -90, 90])\n",
    "\n",
    "# Plot each subcategory with a unique color (unfilled circles with borders)\n",
    "for empo3 in animal_empo3:\n",
    "    subset = animal_df[animal_df[\"empo_3\"] == empo3]\n",
    "    color = get_empo_cat_color(empo3)  # Get color for category\n",
    "    ax.scatter(subset[\"longitude_deg\"], subset[\"latitude_deg\"], \n",
    "               color='none', edgecolors=color, linewidth=1.5, label=empo3, s=40, \n",
    "               transform=ccrs.PlateCarree(), zorder=2)\n",
    "\n",
    "# Add legend with updated labels\n",
    "handles, labels = ax.get_legend_handles_labels()\n",
    "ax.legend(handles, labels, loc='lower center', ncol=2, fontsize=10)\n",
    "\n",
    "# Save the figure\n",
    "animal_map_out_path = os.path.join(sample_prov_output_dir, \"2_animal_samples_map.png\")\n",
    "plt.savefig(animal_map_out_path, dpi=300, bbox_inches=\"tight\")"
   ]
  },
  {
   "cell_type": "markdown",
   "metadata": {},
   "source": [
    "#### 1.1.4. Interactive map with plotly"
   ]
  },
  {
   "cell_type": "code",
   "execution_count": null,
   "metadata": {},
   "outputs": [],
   "source": [
    "# Extract Plant dataset\n",
    "plant_df = metadata_mapping_df[metadata_mapping_df['empo_2'] == 'Plant']\n",
    "\n",
    "# Unique subcategories in empo_3\n",
    "plant_empo3 = plant_df[\"empo_3\"].unique()\n",
    "\n",
    "# Create a base map figure\n",
    "fig = go.Figure()\n",
    "\n",
    "# Plot each subcategory with unique color (unfilled circles with borders)\n",
    "for empo3 in plant_empo3:\n",
    "    subset = plant_df[plant_df[\"empo_3\"] == empo3]\n",
    "    color = get_empo_cat_color(empo3)  # Get color for category\n",
    "\n",
    "    fig.add_trace(go.Scattergeo(\n",
    "        lon=subset[\"longitude_deg\"],\n",
    "        lat=subset[\"latitude_deg\"],\n",
    "        mode=\"markers\",\n",
    "        marker=dict(\n",
    "            symbol=\"circle-open\",  # Unfilled circle\n",
    "            color=color,\n",
    "            size=6,  # Marker size\n",
    "            line=dict(width=1.5, color=color)  # Border color matches category color\n",
    "        ),\n",
    "        name=empo3\n",
    "    ))\n",
    "\n",
    "# Update map layout (fixes horizontal blank space)\n",
    "fig.update_layout(\n",
    "    geo=dict(\n",
    "        landcolor=\"rgb(217, 217, 217)\",  # Light gray land color\n",
    "        showcountries=True,  # Enable country borders\n",
    "        countrycolor=\"white\",  # Set country borders to white\n",
    "        countrywidth=0.5,  # Border thickness\n",
    "        coastlinecolor=\"white\",\n",
    "        fitbounds=\"locations\",  # Focuses only on data points\n",
    "        lataxis=dict(range=[-60, 85], showgrid=False),  # Custom latitude range\n",
    "        lonaxis=dict(range=[-180, 180], showgrid=False)  # Custom longitude range\n",
    "    ),\n",
    "    autosize=False,\n",
    "    width=800,  # Adjust width to remove blank space\n",
    "    height=600,  # Keep a balanced height\n",
    "    margin=dict(l=10, r=10, t=10, b=10),  # Reduce margins to keep map centered\n",
    "    legend=dict(\n",
    "        title=\"\",\n",
    "        font=dict(size=16),  # Legend font size\n",
    "        x=0.5,  # Center legend horizontally\n",
    "        xanchor=\"center\",\n",
    "        yanchor=\"top\",\n",
    "        orientation=\"h\"  # Horizontal legend layout\n",
    "    )\n",
    ")\n",
    "\n",
    "# Save the figure as SVG and JSON\n",
    "# plant_map_out_path = os.path.join(sample_prov_output_dir, \"2_plant_samples_map.svg\")\n",
    "# fig.write_image(plant_map_out_path, scale=2)\n",
    "\n",
    "plant_map_json_path = os.path.join(sample_prov_output_dir, \"3_plant_samples_map.json\")\n",
    "fig.write_json(plant_map_json_path)\n",
    "\n",
    "# Show the figure\n",
    "fig.show(renderer=\"svg\")"
   ]
  },
  {
   "cell_type": "markdown",
   "metadata": {},
   "source": [
    "#### 1.1.5. Interactive map with Altair"
   ]
  },
  {
   "cell_type": "code",
   "execution_count": null,
   "metadata": {},
   "outputs": [],
   "source": [
    "# Extract Saline dataset\n",
    "saline_df = metadata_mapping_df[metadata_mapping_df[\"empo_2\"] == \"Saline\"].copy()\n",
    "\n",
    "# Create a dictionary for simplified category names for the legend\n",
    "simplified_category_names = {\n",
    "    'Water (saline)': 'Water',\n",
    "    'Sediment (saline)': 'Sediment',\n",
    "    'Surface (saline)': 'Surface',\n",
    "    'Hypersaline (saline)': 'Hypersaline'\n",
    "}\n",
    "\n",
    "# Simplify the empo_3 names in the DataFrame for legend\n",
    "saline_df['simplified_empo_3'] = saline_df['empo_3'].apply(lambda x: simplified_category_names.get(x, x))\n",
    "\n",
    "# Apply the get_empo_cat_color function to generate the color column\n",
    "saline_df['color'] = saline_df['empo_3'].apply(get_empo_cat_color)\n",
    "\n",
    "# Create the base world map (use the CDN URL or a different base map if you prefer)\n",
    "countries = alt.topo_feature('https://cdn.jsdelivr.net/npm/world-atlas@2/countries-110m.json', 'countries')\n",
    "\n",
    "# Create a background map of countries\n",
    "background_map = alt.Chart(countries).mark_geoshape(\n",
    "    fill='lightgray',\n",
    "    stroke='white'\n",
    ").project('equirectangular').properties(\n",
    "    width=800,\n",
    "    height=400\n",
    ")\n",
    "\n",
    "# Create the points for saline samples with custom colors\n",
    "saline_points = alt.Chart(saline_df).mark_point(size=50, shape='circle', filled=False,).encode(\n",
    "    longitude='longitude_deg:Q',\n",
    "    latitude='latitude_deg:Q',\n",
    "    color=alt.Color('simplified_empo_3:N', \n",
    "                   scale=alt.Scale(domain=list(saline_df['simplified_empo_3'].unique()), \n",
    "                                   range=[get_empo_cat_color(cat) for cat in saline_df['empo_3'].unique()]),\n",
    "                   legend=alt.Legend(\n",
    "                       title='',\n",
    "                       orient='bottom', \n",
    "                       symbolSize=120,\n",
    "                       labelFontSize=16 \n",
    "                   )),\n",
    "    tooltip=['latitude_deg', 'longitude_deg', 'empo_3']\n",
    ")\n",
    "\n",
    "# Overlay the points on the world map\n",
    "map_with_points = background_map + saline_points\n",
    "\n",
    "# Save as JSON and \n",
    "saline_json_path = os.path.join(sample_prov_output_dir, \"4_saline_samples_map.json\")\n",
    "with open(saline_json_path, \"w\") as f:\n",
    "    f.write(map_with_points.to_json())\n",
    "\n",
    "# saline_png_path = os.path.join(sample_prov_output_dir, \"5_saline_samples_map.png\")\n",
    "# map_with_points.save(saline_png_path)\n",
    "\n",
    "# Display the map\n",
    "map_with_points"
   ]
  },
  {
   "cell_type": "markdown",
   "metadata": {},
   "source": [
    "## 2. Metagenomics"
   ]
  },
  {
   "cell_type": "markdown",
   "metadata": {},
   "source": [
    "### 2.1. Alpha diversity\n",
    "The alpha diversity was measured as number of observed 90bp tag sequences (richness), in n = 23,828 biologically independent samples as a function of environment. Tag sequence counts were subsampled to 5,000 observations."
   ]
  },
  {
   "cell_type": "markdown",
   "metadata": {},
   "source": [
    "#### 2.1.1. Load data and create section and subsection directories"
   ]
  },
  {
   "cell_type": "code",
   "execution_count": 11,
   "metadata": {},
   "outputs": [],
   "source": [
    "# Create the output directory for the metagenomics section and alpha diversity subsection\n",
    "alpha_div_output_dir = os.path.join(base_output_dir, \"2_Metagenomics/1_alpha_diversity\")\n",
    "os.makedirs(alpha_div_output_dir, exist_ok=True)\n",
    "\n",
    "# Load data \n",
    "mapping_qc_filt = 'https://raw.githubusercontent.com//biocore/emp/master/data/mapping-files/emp_qiime_mapping_qc_filtered.tsv'\n",
    "mapping_qc_filt_df = pd.read_csv(mapping_qc_filt, sep='\\t', index_col=0, header=0).sort_index()"
   ]
  },
  {
   "cell_type": "code",
   "execution_count": 12,
   "metadata": {},
   "outputs": [],
   "source": [
    "# Define colors of host associated and free living categories  \n",
    "colorsHA = {\n",
    "    'Animal corpus': get_empo_cat_color('Animal corpus'),\n",
    "    'Plant corpus': get_empo_cat_color('Plant corpus'),\n",
    "    'Animal secretion': get_empo_cat_color('Animal secretion'),\n",
    "    'Plant surface': get_empo_cat_color('Plant surface'),\n",
    "    'Animal proximal gut': get_empo_cat_color('Animal proximal gut'),\n",
    "    'Animal surface': get_empo_cat_color('Animal surface'),\n",
    "    'Animal distal gut': get_empo_cat_color('Animal distal gut'),\n",
    "    'Plant rhizosphere': get_empo_cat_color('Plant rhizosphere'),\n",
    "}\n",
    "\n",
    "colorsFL = {\n",
    "    'Water (saline)': get_empo_cat_color('Water (saline)'), \n",
    "    'Aerosol (non-saline)': get_empo_cat_color('Aerosol (non-saline)'), \n",
    "    'Hypersaline (saline)': get_empo_cat_color('Hypersaline (saline)'),\n",
    "    'Surface (non-saline)': get_empo_cat_color('Surface (non-saline)'),  \n",
    "    'Surface (saline)': get_empo_cat_color('Surface (saline)'), \n",
    "    'Water (non-saline)': get_empo_cat_color('Water (non-saline)'), \n",
    "    'Sediment (saline)': get_empo_cat_color('Sediment (saline)'), \n",
    "    'Soil (non-saline)': get_empo_cat_color('Soil (non-saline)'), \n",
    "    'Sediment (non-saline)': get_empo_cat_color('Sediment (non-saline)')\n",
    "}"
   ]
  },
  {
   "cell_type": "markdown",
   "metadata": {},
   "source": [
    "#### 2.1.2. Static box plot with matplotlib"
   ]
  },
  {
   "cell_type": "code",
   "execution_count": null,
   "metadata": {},
   "outputs": [],
   "source": [
    "# Ensure y variable is numeric to avoid aggregation errors\n",
    "mapping_qc_filt_df['adiv_observed_otus'] = pd.to_numeric(mapping_qc_filt_df['adiv_observed_otus'], errors='coerce')\n",
    "\n",
    "# Get valid categories (only ones in colorsHA)\n",
    "valid_categories_HA = set(colorsHA.keys())\n",
    "\n",
    "# Filter dataset to include only valid categories\n",
    "filtered_data_HA = mapping_qc_filt_df[\n",
    "    (mapping_qc_filt_df['empo_0'] == 'EMP sample') &\n",
    "    (mapping_qc_filt_df['empo_3'].isin(valid_categories_HA)) \n",
    "]\n",
    "\n",
    "# Compute sorted order (only for valid categories)\n",
    "sorted_order = (\n",
    "    filtered_data_HA.groupby(['empo_3'])['adiv_observed_otus']\n",
    "    .mean()\n",
    "    .dropna()\n",
    "    .sort_values()\n",
    "    .index.tolist()\n",
    ")\n",
    "\n",
    "# Create palette dictionary using only valid categories\n",
    "palette_dict = {cat: colorsHA[cat] for cat in sorted_order}\n",
    "\n",
    "# Create figure for Matplotlib\n",
    "fig = plt.figure(figsize=(16, 8))\n",
    "\n",
    "# Plot the boxplot and jitter plot\n",
    "sns.boxplot(fliersize=0, x='empo_3', y='adiv_observed_otus', hue='empo_3', linewidth=1, data=filtered_data_HA, \n",
    "            order=sorted_order, palette=palette_dict)\n",
    "sns.stripplot(jitter=True, x='empo_3', y='adiv_observed_otus', data=filtered_data_HA, order=sorted_order, \n",
    "              color='black', size=1)\n",
    "\n",
    "# Customize the plot\n",
    "plt.xticks(rotation=45, ha='right', fontsize=16)\n",
    "plt.yticks(fontsize=16)\n",
    "plt.xlabel('')\n",
    "plt.ylim(0, 3000)\n",
    "plt.ylabel('Observed tag sequences', fontsize=16)\n",
    "\n",
    "# Add median line\n",
    "median = filtered_data_HA['adiv_observed_otus'].median()\n",
    "plt.axhline(y=median, xmin=0, xmax=1, color='y')\n",
    "\n",
    "# Adjust layout and save the figure\n",
    "plt.tight_layout()\n",
    "fig.patch.set_alpha(0.0)\n",
    "\n",
    "# Ensure directory exists before saving\n",
    "os.makedirs(alpha_div_output_dir, exist_ok=True)\n",
    "\n",
    "# Save figure\n",
    "alpha_div_box_plot_host_ass = os.path.join(alpha_div_output_dir, \"1_alpha_diversity_host_associated_samples.png\")\n",
    "plt.savefig(alpha_div_box_plot_host_ass, dpi=300, bbox_inches=\"tight\")"
   ]
  },
  {
   "cell_type": "markdown",
   "metadata": {},
   "source": [
    "#### 2.1.3. Interactive box plot with plotly"
   ]
  },
  {
   "cell_type": "code",
   "execution_count": null,
   "metadata": {},
   "outputs": [],
   "source": [
    "# Ensure y variable is numeric to avoid aggregation errors\n",
    "mapping_qc_filt_df['adiv_observed_otus'] = pd.to_numeric(mapping_qc_filt_df['adiv_observed_otus'], errors='coerce')\n",
    "\n",
    "# Get valid free-living categories (only ones in colorsFL)\n",
    "valid_categories_FL = list(colorsFL.keys())\n",
    "\n",
    "# Filter dataset to include only valid free-living categories\n",
    "filtered_data_FL = mapping_qc_filt_df[\n",
    "    (mapping_qc_filt_df['empo_0'] == 'EMP sample') &\n",
    "    (mapping_qc_filt_df['empo_3'].isin(valid_categories_FL)) \n",
    "]\n",
    "\n",
    "# Compute sorted order (only for valid categories)\n",
    "sorted_order_FL = (\n",
    "    filtered_data_FL.groupby(['empo_3'])['adiv_observed_otus']\n",
    "    .mean()\n",
    "    .dropna()\n",
    "    .sort_values()\n",
    "    .index.tolist()\n",
    ")\n",
    "\n",
    "# Create the Plotly figure using boxplot and stripplot (jittered points)\n",
    "fig = px.box(\n",
    "    filtered_data_FL,\n",
    "    x='empo_3',\n",
    "    y='adiv_observed_otus',\n",
    "    color='empo_3',\n",
    "    category_orders={'empo_3': sorted_order_FL},\n",
    "    color_discrete_map=colorsFL,\n",
    "    labels={'adiv_observed_otus': 'Observed tag sequences'},\n",
    "    points=False\n",
    ")\n",
    "\n",
    "# Add jittered points (strip plot)\n",
    "fig.add_trace(\n",
    "    px.strip(\n",
    "        filtered_data_FL,\n",
    "        x='empo_3',\n",
    "        y='adiv_observed_otus',\n",
    "        stripmode='overlay'\n",
    "    ).data[0]\n",
    ")\n",
    "\n",
    "# Modify the dot color and size directly inside the add_trace()\n",
    "fig.data[-1].update(\n",
    "    marker=dict(\n",
    "        color='black', \n",
    "        size=1,         \n",
    "        opacity=0.7     \n",
    "    )\n",
    ")\n",
    "\n",
    "# Add median line\n",
    "median = filtered_data_FL['adiv_observed_otus'].median()\n",
    "fig.add_hline(y=median, line=dict(color='yellow'))\n",
    "\n",
    "# Customize the plot\n",
    "fig.update_layout(\n",
    "    xaxis_title='',\n",
    "    yaxis_title='Observed tag sequences',\n",
    "    xaxis_tickangle=-45,\n",
    "    plot_bgcolor='rgba(0,0,0,0)',\n",
    "    showlegend=False,\n",
    "    height=600,\n",
    "    font=dict(size=14),\n",
    ")\n",
    "\n",
    "# Save figure as JSON\n",
    "alpha_div_box_plot_free_living_json = os.path.join(alpha_div_output_dir, \"2_alpha_diversity_free_living_samples.json\")\n",
    "fig.write_json(alpha_div_box_plot_free_living_json)\n",
    "\n",
    "# Save figure as PNG\n",
    "# alpha_div_box_plot_free_living_png = os.path.join(alpha_div_output_dir, \"3_alpha_div_box_plot_free_living.png\")\n",
    "# fig.write_image(alpha_div_box_plot_free_living_png, width=800, height=600, scale=2)\n",
    "\n",
    "# Show the plot\n",
    "fig.show(renderer=\"png\")"
   ]
  },
  {
   "cell_type": "markdown",
   "metadata": {},
   "source": [
    "### 2.2. Gene average copy number 16S rRNA\n",
    "\n",
    "The average copy number of the 16S rRNA gene was measured in n = 23,828 biologically independent samples as a function of environment."
   ]
  },
  {
   "cell_type": "markdown",
   "metadata": {},
   "source": [
    "#### 2.2.1. Load data and create section and subsection directories"
   ]
  },
  {
   "cell_type": "code",
   "execution_count": 15,
   "metadata": {},
   "outputs": [],
   "source": [
    "# Create the output directory for the metagenomics section and average copy number subsection\n",
    "avg_copy_numb_dir = os.path.join(base_output_dir, \"2_Metagenomics/2_average_copy_number\")\n",
    "os.makedirs(avg_copy_numb_dir, exist_ok=True)\n",
    "\n",
    "# Load data \n",
    "emp_gg_otus_sampsum = \"https://raw.githubusercontent.com//biocore/emp/master/data/predicted-rrna-copy-number/emp_cr_gg_13_8.qc_filtered_filt_summary_samplesum.txt\"\n",
    "emp_gg_otus_sampsum_df = pd.read_csv(emp_gg_otus_sampsum, sep='\\t', index_col=0, header=None).sort_index()\n",
    "emp_gg_otus_norm_sampsum = \"https://raw.githubusercontent.com//biocore/emp/master/data/predicted-rrna-copy-number/emp_cr_gg_13_8.normalized_qcfilt_summary_samplesum.txt\"\n",
    "emp_gg_otus_norm_sampsum_df = pd.read_csv(emp_gg_otus_norm_sampsum, sep='\\t', index_col=0, header=None).sort_index()"
   ]
  },
  {
   "cell_type": "code",
   "execution_count": 16,
   "metadata": {},
   "outputs": [],
   "source": [
    "# Create a new df by copying mapping_qc_filt_df\n",
    "mapping_qc_filt_merged_df = mapping_qc_filt_df.copy()\n",
    "\n",
    "# Merge new mapping df with emp_gg_otus_sampsum and emp_gg_otus_norm_sampsum\n",
    "mapping_qc_filt_merged_df['sampsum'] = emp_gg_otus_sampsum_df[1]\n",
    "mapping_qc_filt_merged_df['normsampsum'] = emp_gg_otus_norm_sampsum_df[1]\n",
    "mapping_qc_filt_merged_df['copynumberdepletion'] = np.divide(emp_gg_otus_norm_sampsum_df[1], emp_gg_otus_sampsum_df[1])\n",
    "mapping_qc_filt_merged_df['averagecopy'] = np.divide(1,np.divide(emp_gg_otus_norm_sampsum_df[1],emp_gg_otus_sampsum_df[1]))"
   ]
  },
  {
   "cell_type": "markdown",
   "metadata": {},
   "source": [
    "#### 2.2.2. Static plot with matplotlib"
   ]
  },
  {
   "cell_type": "code",
   "execution_count": null,
   "metadata": {},
   "outputs": [],
   "source": [
    "plt.figure(figsize=(10, 6))\n",
    "\n",
    "for i in ['Animal', 'Non-saline', 'Plant', 'Saline']:\n",
    "    plt.hist(mapping_qc_filt_merged_df[mapping_qc_filt_merged_df.empo_2 == i]['averagecopy'].dropna(), label=i,\n",
    "             bins=200, linewidth=0, color=get_empo_cat_color(i), alpha=0.8)\n",
    "\n",
    "# Customize axes: remove top and right borders\n",
    "plt.gca().spines['top'].set_visible(False)\n",
    "plt.gca().spines['right'].set_visible(False)\n",
    "\n",
    "# Titles and labels\n",
    "plt.legend(loc=1, prop={'size':9}, frameon=False)\n",
    "plt.xlabel('Predicted average community 16S copy number', fontsize=12)\n",
    "plt.ylabel('Number of samples', fontsize=12)\n",
    "plt.xticks(fontsize=10)\n",
    "plt.yticks(fontsize=10)\n",
    "plt.xlim([0,8])\n",
    "plt.tight_layout()\n",
    "\n",
    "# Save the figure\n",
    "avg_copy_numb_empo2 = os.path.join(avg_copy_numb_dir, \"1_average_copy_number_emp_ontology_level2.png\")\n",
    "plt.savefig(avg_copy_numb_empo2, dpi=300, bbox_inches=\"tight\")"
   ]
  },
  {
   "cell_type": "markdown",
   "metadata": {},
   "source": [
    "#### 2.2.3. Interactive plot with plotly"
   ]
  },
  {
   "cell_type": "code",
   "execution_count": null,
   "metadata": {},
   "outputs": [],
   "source": [
    "# Create a list to store histogram traces\n",
    "hist_traces = []\n",
    "\n",
    "# Loop through unique categories in 'empo_3'\n",
    "for i in mapping_qc_filt_merged_df.empo_3.dropna().unique():\n",
    "    hist_traces.append(\n",
    "        go.Histogram(\n",
    "            x=mapping_qc_filt_merged_df[mapping_qc_filt_merged_df.empo_3 == i]['averagecopy'].dropna(),\n",
    "            name=i,  # Legend name\n",
    "            marker=dict(color=get_empo_cat_color(i)),  # Assign color\n",
    "            opacity=0.5,\n",
    "            nbinsx=200  # Number of bins\n",
    "        )\n",
    "    )\n",
    "\n",
    "# Create the figure\n",
    "fig = go.Figure(hist_traces)\n",
    "\n",
    "# Update layout to remove top and right borders\n",
    "fig.update_layout(\n",
    "    xaxis_title=\"Predicted average community 16S copy number\",\n",
    "    yaxis_title=\"Number of samples\",\n",
    "    xaxis=dict(\n",
    "        range=[0, 8], \n",
    "        tickfont=dict(size=10),\n",
    "        showline=True, \n",
    "        linewidth=1, \n",
    "        linecolor=\"black\",\n",
    "        mirror=False,   \n",
    "        showgrid=False,  \n",
    "        zeroline=False   \n",
    "    ),\n",
    "    yaxis=dict(\n",
    "        tickfont=dict(size=10),\n",
    "        showline=True, \n",
    "        linewidth=1, \n",
    "        linecolor=\"black\",\n",
    "        mirror=False,   \n",
    "        showgrid=False, \n",
    "        zeroline=False   \n",
    "    ),\n",
    "    barmode=\"overlay\",  \n",
    "    showlegend=True,\n",
    "    legend=dict(font=dict(size=11), borderwidth=0),  \n",
    "    plot_bgcolor=\"white\"  \n",
    ")\n",
    "# Save the figure as JSON\n",
    "avg_copy_numb_empo3_json = os.path.join(avg_copy_numb_dir, \"2_average_copy_number_emp_ontology_level3.json\")\n",
    "fig.write_json(avg_copy_numb_empo3_json)\n",
    "\n",
    "# Save the figure as PNG\n",
    "# avg_copy_numb_empo3_png = os.path.join(avg_copy_numb_dir, \"3_avg_copy_numb_empo3.png\")\n",
    "# fig.write_image(avg_copy_numb_empo3_png, scale=2)\n",
    "\n",
    "# Show the figure\n",
    "fig.show(renderer=\"png\")"
   ]
  },
  {
   "cell_type": "markdown",
   "metadata": {},
   "source": [
    "### 2.3. Nestedness\n"
   ]
  },
  {
   "cell_type": "markdown",
   "metadata": {},
   "source": [
    "#### 2.3.1. Load the data and create section and subsection directories"
   ]
  },
  {
   "cell_type": "code",
   "execution_count": 33,
   "metadata": {},
   "outputs": [],
   "source": [
    "# Create the output directory for the metagenomics section and nestedness subsection\n",
    "nestedness_dir = os.path.join(base_output_dir, \"2_Metagenomics/3_nestedness\")\n",
    "os.makedirs(nestedness_dir, exist_ok=True)\n",
    "\n",
    "# Load data\n",
    "nest_phylum_allsamples = \"https://raw.githubusercontent.com//biocore/emp/master/data/nestedness/nest_phylum_allsamples.csv\"\n",
    "nest_phylum_allsamples_df = pd.read_csv(nest_phylum_allsamples)\n",
    "nest_phylum_animalsamples = \"https://raw.githubusercontent.com//biocore/emp/master/data/nestedness/nest_phylum_Animal.csv\"\n",
    "nest_phylum_animalsamples_df = pd.read_csv(nest_phylum_animalsamples)\n",
    "nest_phylum_plantsamples = \"https://raw.githubusercontent.com//biocore/emp/master/data/nestedness/nest_phylum_Plant.csv\"\n",
    "nest_phylum_plantsamples_df = pd.read_csv(nest_phylum_plantsamples)\n",
    "nest_phylum_nonsalinesamples = \"https://raw.githubusercontent.com//biocore/emp/master/data/nestedness/nest_phylum_Non-saline.csv\"\n",
    "nest_phylum_nonsalinesamples_df = pd.read_csv(nest_phylum_nonsalinesamples)\n",
    "  "
   ]
  },
  {
   "cell_type": "markdown",
   "metadata": {},
   "source": [
    "#### 2.3.2. Random subset of the nestedness dataframe"
   ]
  },
  {
   "cell_type": "code",
   "execution_count": 34,
   "metadata": {},
   "outputs": [],
   "source": [
    "# Obtain a randome sample of the nestedness df for all samples\n",
    "sample_nest_phylum_allsamples_df = nest_phylum_allsamples_df.sample(100, random_state=42)\n",
    "\n",
    "# Export the sample df as a CSV file\n",
    "sample_nest_phylum_allsamples_df.to_csv(f'{nestedness_dir}/1_nestedness_random_subset.csv')"
   ]
  },
  {
   "cell_type": "markdown",
   "metadata": {},
   "source": [
    "#### 2.3.3. Interactive plots with plotly"
   ]
  },
  {
   "cell_type": "code",
   "execution_count": null,
   "metadata": {},
   "outputs": [],
   "source": [
    "# Determine axis limits\n",
    "xmax = nest_phylum_allsamples_df.SAMPLE_RANK.max()\n",
    "ymax = nest_phylum_allsamples_df.OBSERVATION_RANK.max()\n",
    "\n",
    "# Get colors for each empo_3 category\n",
    "nest_phylum_allsamples_df['color'] = nest_phylum_allsamples_df['empo_3'].apply(get_empo_cat_color)\n",
    "\n",
    "# Create the scatter plot\n",
    "fig = px.scatter(\n",
    "    nest_phylum_allsamples_df,\n",
    "    x=\"SAMPLE_RANK\",\n",
    "    y=\"OBSERVATION_RANK\",\n",
    "    color=\"empo_3\",\n",
    "    color_discrete_map={empo: get_empo_cat_color(empo) for empo in nest_phylum_allsamples_df['empo_3'].unique()},\n",
    "    labels={\"SAMPLE_RANK\": \"All samples (sorted by richness)\", \"OBSERVATION_RANK\": \"Phyla (sorted by prevalence)\"},\n",
    "    template=\"plotly_white\"\n",
    ")\n",
    "\n",
    "# Customize layout\n",
    "fig.update_traces(marker=dict(symbol=\"line-ns-open\", size=10))  # \"|\" marker equivalent\n",
    "fig.update_layout(\n",
    "    width=1200,  # Increase width for a wider plot\n",
    "    height=600,  # Adjust height if needed\n",
    "    xaxis=dict(range=[0, xmax+1], title_font=dict(size=20), tickfont=dict(size=18)),\n",
    "    yaxis=dict(range=[0, ymax+0.8], title_font=dict(size=20), tickfont=dict(size=18)),\n",
    "    showlegend=False\n",
    ")\n",
    "\n",
    "# Save the figure as an interactive HTML file\n",
    "os.makedirs(nestedness_dir, exist_ok=True)\n",
    "nest_phylum_allsamples_path = os.path.join(nestedness_dir, \"2_all_samples.json\")\n",
    "fig.write_json(nest_phylum_allsamples_path)\n",
    "\n",
    "# Show the figure\n",
    "fig.show(renderer=\"png\")"
   ]
  },
  {
   "cell_type": "code",
   "execution_count": null,
   "metadata": {},
   "outputs": [],
   "source": [
    "# Determine axis limits\n",
    "xmax = nest_phylum_plantsamples_df.SAMPLE_RANK.max()\n",
    "ymax = nest_phylum_plantsamples_df.OBSERVATION_RANK.max()\n",
    "\n",
    "# Get colors for each empo_3 category\n",
    "nest_phylum_plantsamples_df['color'] = nest_phylum_plantsamples_df['empo_3'].apply(get_empo_cat_color)\n",
    "\n",
    "# Create the scatter plot\n",
    "fig = px.scatter(\n",
    "    nest_phylum_plantsamples_df,\n",
    "    x=\"SAMPLE_RANK\",\n",
    "    y=\"OBSERVATION_RANK\",\n",
    "    color=\"empo_3\",\n",
    "    color_discrete_map={empo: get_empo_cat_color(empo) for empo in nest_phylum_plantsamples_df['empo_3'].unique()},\n",
    "    labels={\"SAMPLE_RANK\": \"Plant samples (sorted by richness)\", \"OBSERVATION_RANK\": \"Phyla (sorted by prevalence)\"},\n",
    "    template=\"plotly_white\"\n",
    ")\n",
    "\n",
    "# Customize layout\n",
    "fig.update_traces(marker=dict(symbol=\"line-ns-open\", size=10))  # \"|\" marker equivalent\n",
    "fig.update_layout(\n",
    "    width=1200,  # Increase width for a wider plot\n",
    "    height=600,  # Adjust height if needed\n",
    "    xaxis=dict(range=[0, xmax+1], title_font=dict(size=20), tickfont=dict(size=18)),\n",
    "    yaxis=dict(range=[0, ymax+0.8], title_font=dict(size=20), tickfont=dict(size=18)),\n",
    "    legend=dict(\n",
    "        orientation=\"h\",  # Horizontal legend\n",
    "        yanchor=\"top\", y=-0.2,  # Moves the legend below the x-axis\n",
    "        xanchor=\"center\", x=0.5,  # Centers the legend\n",
    "        font=dict(size=16)\n",
    "    ),\n",
    "    legend_title_text=\"\"\n",
    ")\n",
    "\n",
    "# Save the figure as an interactive HTML file\n",
    "os.makedirs(nestedness_dir, exist_ok=True)\n",
    "nest_phylum_plantsamples_path = os.path.join(nestedness_dir, \"3_plant_samples.json\")\n",
    "fig.write_json(nest_phylum_plantsamples_path)\n",
    "\n",
    "# Show the figure\n",
    "fig.show(renderer=\"png\")"
   ]
  },
  {
   "cell_type": "markdown",
   "metadata": {},
   "source": [
    "#### 2.3.4. Static plots with matplotlib"
   ]
  },
  {
   "cell_type": "code",
   "execution_count": null,
   "metadata": {},
   "outputs": [],
   "source": [
    "# Determine axis limits\n",
    "xmax = nest_phylum_animalsamples_df.SAMPLE_RANK.max()\n",
    "ymax = nest_phylum_animalsamples_df.OBSERVATION_RANK.max()\n",
    "\n",
    "# Create the figure and axis\n",
    "fig, ax = plt.subplots(figsize=(500/30, 80/12.7))  # Adjust size as needed\n",
    "\n",
    "# Store legend handles and labels\n",
    "legend_handles = []\n",
    "legend_labels = []\n",
    "\n",
    "# Plot data\n",
    "for empo3 in np.sort(nest_phylum_animalsamples_df.empo_3.unique()):\n",
    "    color = get_empo_cat_color(empo3)\n",
    "    scatter = ax.scatter(\n",
    "        nest_phylum_animalsamples_df[nest_phylum_animalsamples_df.empo_3 == empo3].SAMPLE_RANK, \n",
    "        nest_phylum_animalsamples_df[nest_phylum_animalsamples_df.empo_3 == empo3].OBSERVATION_RANK, \n",
    "        marker='|', linewidths=2, label=empo3, color=color\n",
    "    )\n",
    "    legend_handles.append(scatter)\n",
    "    legend_labels.append(empo3)\n",
    "\n",
    "# Customize labels and appearance\n",
    "ax.set_xlabel(\"Animal samples (sorted by richness)\", fontsize=20)\n",
    "ax.set_ylabel(\"Phyla (sorted by prevalence)\", fontsize=20)\n",
    "ax.tick_params(axis='both', which='major', labelsize=18)\n",
    "\n",
    "# Add legend\n",
    "ax.legend(\n",
    "    handles=legend_handles, labels=legend_labels,\n",
    "    loc='upper center', bbox_to_anchor=(0.5, -0.2),  # Moves legend below x-axis\n",
    "    ncol=3, fontsize=16, frameon=False, scatterpoints=1, handletextpad=0.5\n",
    ")\n",
    "\n",
    "# Increase space at the bottom so the legend is not cut off\n",
    "plt.subplots_adjust(bottom=0.25)\n",
    "\n",
    "ax.set_xlim([0, xmax+1])\n",
    "ax.set_ylim([0, ymax+0.8])\n",
    "\n",
    "plt.tight_layout()\n",
    "fig.patch.set_alpha(0.0)\n",
    "\n",
    "# Save the figure\n",
    "os.makedirs(nestedness_dir, exist_ok=True)\n",
    "nest_phylum_animalsamples_path = os.path.join(nestedness_dir, \"4_animal_samples.png\")\n",
    "plt.savefig(nest_phylum_animalsamples_path, dpi=300, bbox_inches=\"tight\")"
   ]
  },
  {
   "cell_type": "code",
   "execution_count": null,
   "metadata": {},
   "outputs": [],
   "source": [
    "# Determine axis limits\n",
    "xmax = nest_phylum_nonsalinesamples_df.SAMPLE_RANK.max()\n",
    "ymax = nest_phylum_nonsalinesamples_df.OBSERVATION_RANK.max()\n",
    "\n",
    "# Create the figure and axis\n",
    "fig, ax = plt.subplots(figsize=(500/30, 80/12.7))  # Adjust size as needed\n",
    "\n",
    "# Store legend handles and labels\n",
    "legend_handles = []\n",
    "legend_labels = []\n",
    "\n",
    "# Plot data\n",
    "for empo3 in np.sort(nest_phylum_nonsalinesamples_df.empo_3.unique()):\n",
    "    color = get_empo_cat_color(empo3)\n",
    "    scatter = ax.scatter(\n",
    "        nest_phylum_nonsalinesamples_df[nest_phylum_nonsalinesamples_df.empo_3 == empo3].SAMPLE_RANK, \n",
    "        nest_phylum_nonsalinesamples_df[nest_phylum_nonsalinesamples_df.empo_3 == empo3].OBSERVATION_RANK, \n",
    "        marker='|', linewidths=2, label=empo3, color=color\n",
    "    )\n",
    "    legend_handles.append(scatter)\n",
    "    legend_labels.append(empo3)\n",
    "\n",
    "# Customize labels and appearance\n",
    "ax.set_xlabel(\"Non saline samples (sorted by richness)\", fontsize=20)\n",
    "ax.set_ylabel(\"Phyla (sorted by prevalence)\", fontsize=20)\n",
    "ax.tick_params(axis='both', which='major', labelsize=18)\n",
    "\n",
    "# Add legend\n",
    "ax.legend(\n",
    "    handles=legend_handles, labels=legend_labels,\n",
    "    loc='upper center', bbox_to_anchor=(0.5, -0.2),  # Moves legend below x-axis\n",
    "    ncol=3, fontsize=16, frameon=False, scatterpoints=1, handletextpad=0.5\n",
    ")\n",
    "\n",
    "# Increase space at the bottom so the legend is not cut off\n",
    "plt.subplots_adjust(bottom=0.25)\n",
    "\n",
    "ax.set_xlim([0, xmax+1])\n",
    "ax.set_ylim([0, ymax+0.8])\n",
    "\n",
    "plt.tight_layout()\n",
    "fig.patch.set_alpha(0.0)\n",
    "\n",
    "# Save the figure\n",
    "os.makedirs(nestedness_dir, exist_ok=True)\n",
    "nest_phylum_nonsalinesamples_path = os.path.join(nestedness_dir, \"5_non_saline_samples.png\")\n",
    "plt.savefig(nest_phylum_nonsalinesamples_path, dpi=300, bbox_inches=\"tight\")"
   ]
  },
  {
   "cell_type": "markdown",
   "metadata": {},
   "source": [
    "## 3. Network analysis"
   ]
  },
  {
   "cell_type": "markdown",
   "metadata": {},
   "source": [
    "### 3.1. Phyla association networks "
   ]
  },
  {
   "cell_type": "markdown",
   "metadata": {},
   "source": [
    "#### 3.1.1 Load data and create section and subsection directories"
   ]
  },
  {
   "cell_type": "code",
   "execution_count": 25,
   "metadata": {},
   "outputs": [],
   "source": [
    "# Create the output directory for the network analysis section and microbial networks subsection\n",
    "network_dir = os.path.join(base_output_dir, \"3_Network_analysis/1_phyla_association_networks\")\n",
    "os.makedirs(network_dir, exist_ok=True)\n",
    "\n",
    "# Load OTU counts table\n",
    "otu_counts = \"https://raw.githubusercontent.com//biocore/emp/master/data/biom-tables/emp_deblur_100bp.subset_2k.rare_5000.biom\"\n",
    "\n",
    "# Download the file and save it as a binary file\n",
    "response = requests.get(otu_counts)\n",
    "with open(\"example_data/Earth_microbiome_vuegen_demo_notebook/emp_deblur_100bp.subset_2k.rare_5000.biom\", 'wb') as f:\n",
    "    f.write(response.content)\n",
    "\n",
    "# Load the BIOM file and convert it to a DataFrame\n",
    "otu_counts_table = biom.load_table(\"example_data/Earth_microbiome_vuegen_demo_notebook/emp_deblur_100bp.subset_2k.rare_5000.biom\")"
   ]
  },
  {
   "cell_type": "code",
   "execution_count": 26,
   "metadata": {},
   "outputs": [],
   "source": [
    "# Collapse the table to the phylum level\n",
    "phylum_idx = 1\n",
    "collapse_f = lambda id_, md: '; '.join(md['taxonomy'][:phylum_idx + 1])\n",
    "phyla_table = otu_counts_table.collapse(collapse_f, axis='observation')\n",
    "\n",
    "# Convert the collapsed table to a DataFrame\n",
    "phyla_counts_df = phyla_table.to_dataframe()"
   ]
  },
  {
   "cell_type": "markdown",
   "metadata": {},
   "source": [
    "#### 3.1.2. Clean data and export a subset of the counts table"
   ]
  },
  {
   "cell_type": "code",
   "execution_count": 27,
   "metadata": {},
   "outputs": [],
   "source": [
    "# Clean the index (which contains Phylum names) by removing unnecessary parts\n",
    "phyla_counts_df.index = phyla_counts_df.index.str.split(';').str[-1].str.replace('p__', '', regex=False)\n",
    "\n",
    "# Remove special characters like [] and unnecessary spaces\n",
    "phyla_counts_df.index = phyla_counts_df.index.str.replace('[', '', regex=False).str.replace(']', '', regex=False).str.strip()\n",
    "\n",
    "# Remove rows where the index only has 'k__' and 'Unclassified'\n",
    "phyla_counts_df = phyla_counts_df[~(phyla_counts_df.index == 'Unclassified')]\n",
    "phyla_counts_df = phyla_counts_df[~phyla_counts_df.index.str.contains('k__')]\n",
    "\n",
    "# Remove duplicaye rows\n",
    "phyla_counts_df = phyla_counts_df[~phyla_counts_df.index.duplicated(keep='first')]\n"
   ]
  },
  {
   "cell_type": "code",
   "execution_count": 28,
   "metadata": {},
   "outputs": [],
   "source": [
    "# Obtain a randome sample of the columns of the phyla counts df\n",
    "sample_phyla_counts_df = phyla_counts_df.sample(50, axis=1)\n",
    "\n",
    "# Export the sample df as a CSV file\n",
    "sample_phyla_counts_df.to_csv(f'{network_dir}/1_phyla_counts_subset.csv')"
   ]
  },
  {
   "cell_type": "markdown",
   "metadata": {},
   "source": [
    "#### 3.1.3. Phyla association network edge list"
   ]
  },
  {
   "cell_type": "code",
   "execution_count": 29,
   "metadata": {},
   "outputs": [],
   "source": [
    "# Compute correlation matrix with absolute values\n",
    "phyla_corr_matrix = phyla_counts_df.T.corr().abs()\n",
    "\n",
    "# Create a binary adjacency matrix using a threshold\n",
    "threshold = 0.5\n",
    "phyla_corr_matrix_binary = phyla_corr_matrix > threshold\n",
    "\n",
    "# Set diagonal values to 0\n",
    "np.fill_diagonal(phyla_corr_matrix_binary.values, 0)"
   ]
  },
  {
   "cell_type": "code",
   "execution_count": 30,
   "metadata": {},
   "outputs": [],
   "source": [
    "# Create a graph from the binary matrix\n",
    "G = nx.Graph()\n",
    "\n",
    "# Add nodes (Phyla)\n",
    "phyla = phyla_corr_matrix_binary.index.tolist()\n",
    "G.add_nodes_from(phyla)\n",
    "\n",
    "# Add edges where binary_matrix == 1\n",
    "for i in range(len(phyla)):\n",
    "    for j in range(i + 1, len(phyla)):  # Avoid duplicate edges\n",
    "        if phyla_corr_matrix_binary.iloc[i, j] == 1:\n",
    "            G.add_edge(phyla[i], phyla[j])\n",
    "\n",
    "# Remove singleton nodes (nodes with no edges)\n",
    "G.remove_nodes_from(list(nx.isolates(G)))\n",
    "\n",
    "# Export network as an edge list in CSV format, the \"edge_list\" word should be in the file name to be \n",
    "# recognized as an edge list file\n",
    "edge_list = nx.to_pandas_edgelist(G)\n",
    "edge_list.to_csv(os.path.join(network_dir, \"2_phyla_correlation_network_with_0.5_threshold_edgelist.csv\"), index=False)"
   ]
  },
  {
   "cell_type": "markdown",
   "metadata": {},
   "source": [
    "#### 3.1.4. Phyla association network static plot"
   ]
  },
  {
   "cell_type": "code",
   "execution_count": null,
   "metadata": {},
   "outputs": [],
   "source": [
    "# Draw the network \n",
    "plt.figure(figsize=(8, 6))\n",
    "pos = nx.kamada_kawai_layout(G)  # Layout for better visualization\n",
    "nx.draw(G, pos, \n",
    "        with_labels=True, \n",
    "        node_size=500, \n",
    "        node_color=\"lightblue\",  \n",
    "        edgecolors=\"black\",\n",
    "        linewidths=0.3, \n",
    "        font_size=10)\n",
    "\n",
    "# Export the figure as a PNG file\n",
    "network_path = os.path.join(network_dir, \"3_phyla_correlation_network_with_0.5_threshold.png\")\n",
    "plt.savefig(network_path, dpi=300, bbox_inches=\"tight\")"
   ]
  },
  {
   "cell_type": "markdown",
   "metadata": {},
   "source": [
    "## 4. Report generation\n",
    "To generate different report types, just modify the report_type variable. The available types are: \n",
    "* streamlit\n",
    "* html\n",
    "* pdf\n",
    "* docx\n",
    "* odt\n",
    "* revealjs\n",
    "* pptx\n",
    "* jupyter"
   ]
  },
  {
   "cell_type": "markdown",
   "metadata": {},
   "source": [
    "### 4.1. Streamlit report"
   ]
  },
  {
   "cell_type": "code",
   "execution_count": null,
   "metadata": {},
   "outputs": [],
   "source": [
    "report_type = \"streamlit\"\n",
    "report_name = \"Earth_microbiome_vuegen_demo_notebook_dir\"\n",
    "\n",
    "# Initialize logger\n",
    "logger = get_logger(f\"{report_type}_report_{report_name}\")\n",
    "\n",
    "# Generate the report\n",
    "report_generator.get_report(dir_path = base_output_dir, report_type = report_type, logger = logger)"
   ]
  },
  {
   "cell_type": "code",
   "execution_count": null,
   "metadata": {},
   "outputs": [],
   "source": [
    "# The streamlit web application can be run with the following command:\n",
    "# streamlit run streamlit_report/sections/report_manager.py"
   ]
  },
  {
   "cell_type": "markdown",
   "metadata": {},
   "source": [
    "### 4.2. Revealjs report"
   ]
  },
  {
   "cell_type": "code",
   "execution_count": null,
   "metadata": {},
   "outputs": [],
   "source": [
    "# report_type = \"revealjs\"\n",
    "# report_name = \"Earth_microbiome_vuegen_demo_notebook_dir\"\n",
    "\n",
    "# Initialize logger\n",
    "# logger = get_logger(f\"{report_type}_report_{report_name}\")\n",
    "\n",
    "# Generate the report\n",
    "# report_generator.get_report(dir_path = base_output_dir, report_type = report_type, logger = logger)"
   ]
  },
  {
   "cell_type": "markdown",
   "metadata": {},
   "source": [
    "### 4.3. HTML report"
   ]
  },
  {
   "cell_type": "code",
   "execution_count": null,
   "metadata": {},
   "outputs": [],
   "source": [
    "report_type = \"hml\"\n",
    "report_name = \"Earth_microbiome_vuegen_demo_notebook_dir\"\n",
    "\n",
    "# Initialize logger\n",
    "logger = get_logger(f\"{report_type}_report_{report_name}\")\n",
    "\n",
    "# Generate the report\n",
    "report_generator.get_report(dir_path = base_output_dir, report_type = report_type, logger = logger)"
   ]
  },
  {
   "cell_type": "markdown",
   "metadata": {},
   "source": [
    "## 5. Extending the report\n",
    "Now, we will extend the report by modifying the configuration file to include a logo and graphica abstract in the main page, a descritption for a section and a subsection, and a new plot from a url. We are modifying this file from the notebook, but it is also possible to do it directly in the configuration file with a text editor."
   ]
  },
  {
   "cell_type": "markdown",
   "metadata": {},
   "source": [
    "### 5.1. Adding a logo and graphical abstract"
   ]
  },
  {
   "cell_type": "code",
   "execution_count": 20,
   "metadata": {},
   "outputs": [],
   "source": [
    "empo_logo_path = \"https://raw.githubusercontent.com/ElDeveloper/cogs220/master/emp-logo.svg\"\n",
    "\n",
    "# Load the YAML file\n",
    "config_path = os.path.join(base_output_dir, \"Earth_microbiome_vuegen_demo_notebook_config.yaml\")\n",
    "config = load_yaml_config(config_path)\n",
    "\n",
    "# Update the logo and graphical abstract with the URL\n",
    "config[\"report\"].update({\"logo\": empo_logo_path, \"graphical_abstract\": empo_logo_path})"
   ]
  },
  {
   "cell_type": "markdown",
   "metadata": {},
   "source": [
    "### 5.2. Including a description for a section and a subsection"
   ]
  },
  {
   "cell_type": "code",
   "execution_count": 21,
   "metadata": {},
   "outputs": [],
   "source": [
    "# Update the description for the EDA section\n",
    "for section in config[\"sections\"]:\n",
    "    if section[\"title\"] == \"Exploratory Data Analysis\":  \n",
    "        section[\"description\"] = \"This section contains the exploratory data analysis of the Earth Microbiome Project (EMP) dataset.\"\n",
    "\n",
    "# Update the description for the alpha diversity subsection from the Metagenomics section\n",
    "for section in config[\"sections\"]:\n",
    "    if section[\"title\"] == \"Metagenomics\":\n",
    "        for subsection in section[\"subsections\"]:\n",
    "            if subsection[\"title\"] == \"Alpha Diversity\":\n",
    "                subsection[\"description\"] = \"This subsection contains the alpha diversity analysis of the EMP dataset.\"\n"
   ]
  },
  {
   "cell_type": "markdown",
   "metadata": {},
   "source": [
    "### 5.3. Adding a new plot from a url"
   ]
  },
  {
   "cell_type": "code",
   "execution_count": 22,
   "metadata": {},
   "outputs": [],
   "source": [
    "# Define new plot with a URL as the file path\n",
    "chem_prop_plot = {\n",
    "    \"title\": \"Physicochemical properties of the EMP samples\",\n",
    "    \"file_path\": \"https://raw.githubusercontent.com/biocore/emp/master/methods/images/figureED1_physicochemical.png\", \n",
    "    \"description\": \"\",\n",
    "    \"caption\": \"Pairwise scatter plots of available physicochemical metadat are shown for temperature, salinity, oxygen, and pH, and for phosphate, nitrate, and ammonium\",\n",
    "    \"component_type\": \"plot\",\n",
    "    \"plot_type\": \"static\"\n",
    "}\n",
    "\n",
    "# Add the plot to the Sample Provenance subsection in the EDA section\n",
    "for section in config[\"sections\"]:\n",
    "    if section[\"title\"] == \"Exploratory Data Analysis\":\n",
    "        for subsection in section[\"subsections\"]:\n",
    "            if subsection[\"title\"] == \"Sample Exploration\":\n",
    "                subsection[\"components\"].append(chem_prop_plot)"
   ]
  },
  {
   "cell_type": "markdown",
   "metadata": {},
   "source": [
    "### 5.4. Creating a new subsection with a plot from a url"
   ]
  },
  {
   "cell_type": "code",
   "execution_count": 23,
   "metadata": {},
   "outputs": [],
   "source": [
    "# Define new plot with a URL as the file path\n",
    "specif_seq_plot = {\n",
    "    \"title\": \"Specificity of sequences and higher taxonomic groups for environment\",\n",
    "    \"file_path\": \"https://raw.githubusercontent.com/biocore/emp/master/methods/images/figure4_entropy.png\", \n",
    "    \"description\": \"\",\n",
    "    \"caption\": \"a) Environment distribution in all genera and 400 randomly chosen tag sequence. b) and c) Shannon entropy within each taxonomic group.\",\n",
    "    \"component_type\": \"plot\",\n",
    "    \"plot_type\": \"static\"\n",
    "}\n",
    "\n",
    "# Define the new subsection for the Shannon entropy analysis\n",
    "entropy_subsection = {\n",
    "    \"title\": \"Shanon entropy analysis\", \n",
    "    \"description\": \"This subsection contains the Shannon entropy analysis of the EMP dataset.\",\n",
    "    \"components\": [specif_seq_plot] \n",
    "}\n",
    "\n",
    "# Add the new subsection to the Metagenomics section\n",
    "for section in config[\"sections\"]:\n",
    "    if section[\"title\"] == \"Metagenomics\": \n",
    "        section[\"subsections\"].append(entropy_subsection)\n",
    "\n",
    "# Save the modified YAML file\n",
    "with open(config_path, \"w\") as file:\n",
    "    yaml.dump(config, file, default_flow_style=False)"
   ]
  },
  {
   "cell_type": "markdown",
   "metadata": {},
   "source": [
    "### 5.5. Stremlit report with the extended configuration file"
   ]
  },
  {
   "cell_type": "code",
   "execution_count": null,
   "metadata": {},
   "outputs": [],
   "source": [
    "# Test the changes by generarating the report from the modified YAML file\n",
    "report_type = \"streamlit\"\n",
    "report_name = \"Earth_microbiome_vuegen_demo_notebook_config_extended\"\n",
    "\n",
    "# Initialize logger\n",
    "logger = get_logger(f\"{report_type}_report_{report_name}\")\n",
    "\n",
    "# Generate the report\n",
    "report_generator.get_report(config_path = config_path, report_type = report_type, logger = logger)"
   ]
  },
  {
   "cell_type": "code",
   "execution_count": null,
   "metadata": {},
   "outputs": [],
   "source": [
    "# The streamlit web application can be run with the following command:\n",
    "# streamlit run streamlit_report/sections/report_manager.py"
   ]
  },
  {
   "cell_type": "markdown",
   "metadata": {},
   "source": [
    "### 5.6. Revealjs report with the extended configuration file"
   ]
  },
  {
   "cell_type": "code",
   "execution_count": null,
   "metadata": {},
   "outputs": [],
   "source": [
    "# Test the changes by generarating the report from the modified YAML file\n",
    "# report_type = \"revealjs\"\n",
    "# report_name = \"Earth_microbiome_vuegen_demo_notebook_config_extended\"\n",
    "\n",
    "# Initialize logger\n",
    "# logger = get_logger(f\"{report_type}_report_{report_name}\")\n",
    "\n",
    "# Generate the report\n",
    "# report_generator.get_report(config_path = config_path, report_type = report_type, logger = logger)"
   ]
  },
  {
   "cell_type": "markdown",
   "metadata": {},
   "source": [
    "### 5.7. HTML report with the extended configuration file"
   ]
  },
  {
   "cell_type": "code",
   "execution_count": null,
   "metadata": {},
   "outputs": [],
   "source": [
    "# Test the changes by generarating the report from the modified YAML file\n",
    "report_type = \"html\"\n",
    "report_name = \"Earth_microbiome_vuegen_demo_notebook_config_extended\"\n",
    "\n",
    "# Initialize logger\n",
    "logger = get_logger(f\"{report_type}_report_{report_name}\")\n",
    "\n",
    "# Generate the report\n",
    "report_generator.get_report(config_path = config_path, report_type = report_type, logger = logger)"
   ]
  }
 ],
 "metadata": {
  "kernelspec": {
   "display_name": "vuegen-IFxaxej_-py3.12",
   "language": "python",
   "name": "python3"
  },
  "language_info": {
   "codemirror_mode": {
    "name": "ipython",
    "version": 3
   },
   "file_extension": ".py",
   "mimetype": "text/x-python",
   "name": "python",
   "nbconvert_exporter": "python",
   "pygments_lexer": "ipython3",
   "version": "3.12.6"
  }
 },
 "nbformat": 4,
 "nbformat_minor": 2
}

{
 "cells": [
  {
   "cell_type": "markdown",
   "metadata": {},
   "source": [
    "# Vuegen Basic Case Study - Predefined Directory\n",
    "\n",
    "[![Open In Colab][colab_badge]][colab_link]\n",
    "\n",
    "This notebook is a basic demo of the Vuegen Python library. This sofwtare automates the creation of reports based on a directory with plots, dataframes, and other files in different formats. A YAML configuration file is generated from the directory to define the structure of the report. Users can customize the report by modifying the configuration file, or they can create their own configuration file instead of passing a directory as input. \n",
    "\n",
    "The configuration file specifies the structure of the report, including sections, subsections, and various components such as plots, dataframes, markdown, html, and API calls. Reports can be generated in various formats, including documents (PDF, HTML, DOCX, ODT), presentations (PPTX, Reveal.js), notebooks (Jupyter) or Streamlit web applications.\n",
    "\n",
    "An overview of the VueGen workflow is shown in the figure below:\n",
    "\n",
    "![Vuegen graphical abstarct][abstractfig_vuegen]\n",
    "\n",
    "This introductory case study familiarizes users with the tool, its report types, file formats, and other features. In this example, a directory with plots, dataframes, Markdown, and HTML components is provided. An advanced example can be found [here][advanced_notebook].\n",
    "\n",
    "## Notebook structure\n",
    "\n",
    "First, we will set up the work environment by installing the necessary packages and importing the required libraries. Next, we will create various reports using the example directory. Finally, we will extend the report by modifying the configuration file to include additional components.\n",
    "\n",
    "0. [Work environment setup](#0-work-environment-setup)\n",
    "1. [Report generation](#1-report-generation)\n",
    "2. [Extending the report](#2-extending-the-report)\n",
    "\n",
    "## Credits and Contributors\n",
    "- This notebook was created by Sebastián Ayala-Ruano under the supervision of Henry Webel and Alberto Santos, head of the [Multiomics Network Analytics Group (MoNA)][Mona] at the [Novo Nordisk Foundation Center for Biosustainability (DTU Biosustain)][Biosustain].\n",
    "- You can find more details about the project in this [GitHub repository][githubrepo].\n",
    "\n",
    "[colab_badge]: https://colab.research.google.com/assets/colab-badge.svg\n",
    "[colab_link]: https://colab.research.google.com/github/Multiomics-Analytics-Group/vuegen/blob/main/docs/vuegen_basic_case_study.ipynb\n",
    "[abstractfig_vuegen]: https://raw.githubusercontent.com/Multiomics-Analytics-Group/vuegen/main/docs/images/vuegen_graph_abstract.png\n",
    "[emp_repo]: https://github.com/biocore/emp/tree/master\n",
    "[emp_paper]: https://www.nature.com/articles/nature24621\n",
    "[Mona]: https://multiomics-analytics-group.github.io/\n",
    "[Biosustain]: https://www.biosustain.dtu.dk/\n",
    "[githubrepo]: https://github.com/Multiomics-Analytics-Group/vuegen\n",
    "[advanced_notebook]: https://github.com/Multiomics-Analytics-Group/vuegen/blob/main/docs/vuegen_case_study_earth_microbiome.ipynb\n"
   ]
  },
  {
   "cell_type": "markdown",
   "metadata": {},
   "source": [
    "## 0. Work environment setup"
   ]
  },
  {
   "cell_type": "markdown",
   "metadata": {},
   "source": [
    "### 0.1. Installing libraries and creating global variables for platform and working directory\n",
    "\n",
    "To run this notebook locally, you should create a virtual environment with the required libraries. If you are running this notebook on Google Colab, everything should be set."
   ]
  },
  {
   "cell_type": "code",
   "execution_count": null,
   "metadata": {
    "tags": [
     "hide-output"
    ]
   },
   "outputs": [],
   "source": [
    "# Vuegen library\n",
    "%pip install vuegen"
   ]
  },
  {
   "cell_type": "code",
   "execution_count": null,
   "metadata": {
    "tags": [
     "hide-cell"
    ]
   },
   "outputs": [],
   "source": [
    "import os\n",
    "\n",
    "IN_COLAB = \"COLAB_GPU\" in os.environ"
   ]
  },
  {
   "cell_type": "code",
   "execution_count": null,
   "metadata": {
    "tags": [
     "hide-cell"
    ]
   },
   "outputs": [],
   "source": [
    "# Set working directory\n",
    "if IN_COLAB:\n",
    "    # Clone the repository in Colab\n",
    "    !git clone --depth=1 https://github.com/Multiomics-Analytics-Group/vuegen.git\n",
    "    base_output_dir = \"vuegen/docs/example_data/Basic_example_vuegen_demo_notebook/\"\n",
    "else:\n",
    "    # Output directory for local execution\n",
    "    base_output_dir = \"./example_data/Basic_example_vuegen_demo_notebook/\""
   ]
  },
  {
   "cell_type": "code",
   "execution_count": null,
   "metadata": {
    "tags": [
     "hide-cell"
    ]
   },
   "outputs": [],
   "source": [
    "# Optional library to launch a streamlit app from colab\n",
    "if IN_COLAB:\n",
    "    !npm install localtunnel"
   ]
  },
  {
   "cell_type": "markdown",
   "metadata": {},
   "source": [
    "### 0.2. Importing libraries"
   ]
  },
  {
   "cell_type": "code",
   "execution_count": null,
   "metadata": {
    "tags": [
     "hide-cell"
    ]
   },
   "outputs": [],
   "source": [
    "# Imports\n",
    "import os\n",
    "import yaml\n",
    "from vuegen import report_generator\n",
    "from vuegen.utils import get_logger, load_yaml_config\n",
    "\n",
    "if IN_COLAB:\n",
    "    import urllib"
   ]
  },
  {
   "cell_type": "markdown",
   "metadata": {},
   "source": [
    "## 1. Report generation\n",
    "To generate different report types, just modify the report_type variable. The available types are: \n",
    "* streamlit\n",
    "* html\n",
    "* pdf\n",
    "* docx\n",
    "* odt\n",
    "* revealjs\n",
    "* pptx\n",
    "* jupyter"
   ]
  },
  {
   "cell_type": "markdown",
   "metadata": {},
   "source": [
    "### 1.1. Streamlit report\n",
    "\n",
    "To launch the Streamlit web application from Colab, open the generated URL and copy the localtunnel entry point IP into the corresponding field on the opened page. Once submited, you will be redirected to your Streamlit web application."
   ]
  },
  {
   "cell_type": "code",
   "execution_count": null,
   "metadata": {
    "tags": [
     "hide-output"
    ]
   },
   "outputs": [],
   "source": [
    "# Generate the report\n",
    "report_type = \"streamlit\"\n",
    "report_dir, config_path = report_generator.get_report(\n",
    "    dir_path=base_output_dir, report_type=report_type, logger=None\n",
    ")\n",
    "print(f\"\\nReport generated in {report_dir}\")\n",
    "print(f\"\\nConfig file generated in {config_path}\")"
   ]
  },
  {
   "cell_type": "code",
   "execution_count": null,
   "metadata": {
    "tags": [
     "hide-output"
    ]
   },
   "outputs": [],
   "source": [
    "run_streamlit = False\n",
    "# run_streamlit = True # uncomment line to run the streamlit report\n",
    "# Launch the Streamlit report depneding on the platform\n",
    "if not IN_COLAB and run_streamlit:\n",
    "    !streamlit run streamlit_report/sections/report_manager.py\n",
    "elif run_streamlit:\n",
    "    # see: https://discuss.streamlit.io/t/how-to-launch-streamlit-app-from-google-colab-notebook/42399\n",
    "    print(\n",
    "        \"Password/Enpoint IP for localtunnel is:\",\n",
    "        urllib.request.urlopen(\"https://ipv4.icanhazip.com\")\n",
    "        .read()\n",
    "        .decode(\"utf8\")\n",
    "        .strip(\"\\n\"),\n",
    "    )\n",
    "    # Run the Streamlit app in the background\n",
    "    !streamlit run streamlit_report/sections/report_manager.py --server.address=localhost &>/content/logs.txt &\n",
    "    # Expose the Streamlit app on port 8501\n",
    "    !npx localtunnel --port 8501 --subdomain vuegen-demo\n",
    "else:\n",
    "    print(\"Streamlit report not executed, set run_streamlit to True to run the report\")"
   ]
  },
  {
   "cell_type": "markdown",
   "metadata": {},
   "source": [
    "### 1.2. HTML and other report types"
   ]
  },
  {
   "cell_type": "code",
   "execution_count": null,
   "metadata": {
    "tags": [
     "hide-output"
    ]
   },
   "outputs": [],
   "source": [
    "# Generate the report\n",
    "report_type = \"html\"\n",
    "report_dir, config_path = report_generator.get_report(\n",
    "    dir_path=base_output_dir, report_type=report_type, logger=None\n",
    ")\n",
    "print(f\"Report generated at: {report_dir}\")"
   ]
  },
  {
   "cell_type": "markdown",
   "metadata": {},
   "source": [
    "## 2. Extending the report\n",
    "Now, we will extend the report by modifying the configuration file to include a logo and graphica abstract in the main page, a descritption for a section and a subsection, and a new plot from a url. We are modifying this file from the notebook, but it is also possible to do it directly in the configuration file with a text editor."
   ]
  },
  {
   "cell_type": "markdown",
   "metadata": {},
   "source": [
    "### 2.1. Adding a logo and graphical abstract"
   ]
  },
  {
   "cell_type": "code",
   "execution_count": null,
   "metadata": {
    "tags": [
     "hide-output"
    ]
   },
   "outputs": [],
   "source": [
    "vuegen_logo_path = \"https://raw.githubusercontent.com/Multiomics-Analytics-Group/vuegen/main/docs/images/vuegen_logo.svg\"\n",
    "\n",
    "# Load the YAML file\n",
    "print(\n",
    "    f\"Loading the YAML config file from: {config_path}\"\n",
    ")  # generated based on directory path above\n",
    "config = load_yaml_config(config_path)\n",
    "\n",
    "# Update the logo and graphical abstract with the URL\n",
    "config[\"report\"].update(\n",
    "    {\"logo\": vuegen_logo_path, \"graphical_abstract\": vuegen_logo_path}\n",
    ")"
   ]
  },
  {
   "cell_type": "markdown",
   "metadata": {},
   "source": [
    "### 2.2. Including a description for a section and a subsection"
   ]
  },
  {
   "cell_type": "code",
   "execution_count": null,
   "metadata": {
    "tags": [
     "hide-output"
    ]
   },
   "outputs": [],
   "source": [
    "# Update the description for the EDA section\n",
    "for section in config[\"sections\"]:\n",
    "    if section[\"title\"] == \"Plots\":\n",
    "        section[\"description\"] = \"This section contains example plots\"\n",
    "\n",
    "# Update the description for the alpha diversity subsection from the Metagenomics section\n",
    "for section in config[\"sections\"]:\n",
    "    if section[\"title\"] == \"Dataframes\":\n",
    "        for subsection in section[\"subsections\"]:\n",
    "            if subsection[\"title\"] == \"All Formats\":\n",
    "                subsection[\"description\"] = (\n",
    "                    \"This subsection contains example dataframes.\"\n",
    "                )"
   ]
  },
  {
   "cell_type": "markdown",
   "metadata": {},
   "source": [
    "### 2.3. Adding a new plot from a url"
   ]
  },
  {
   "cell_type": "code",
   "execution_count": null,
   "metadata": {
    "tags": [
     "hide-output"
    ]
   },
   "outputs": [],
   "source": [
    "# Define new plot with a URL as the file path\n",
    "vuegen_abst_fig = {\n",
    "    \"title\": \"Graphical overview of VueGen’s workflow and components\",\n",
    "    \"file_path\": \"https://raw.githubusercontent.com/Multiomics-Analytics-Group/vuegen/main/docs/images/vuegen_graph_abstract.png\",\n",
    "    \"description\": \"\",\n",
    "    \"caption\": \"The diagram illustrates the processing pipeline of VueGen, starting from either a directory or a YAML configuration file. Reports consist of hierarchical sections and subsections, each containing various components such as plots, dataframes, Markdown, HTML, and data retrieved via API calls.\",\n",
    "    \"component_type\": \"plot\",\n",
    "    \"plot_type\": \"static\",\n",
    "}\n",
    "\n",
    "# Add the plot to the Sample Provenance subsection in the EDA section\n",
    "for section in config[\"sections\"]:\n",
    "    if section[\"title\"] == \"Plots\":\n",
    "        for subsection in section[\"subsections\"]:\n",
    "            if subsection[\"title\"] == \"Static Plots\":\n",
    "                subsection[\"components\"].append(vuegen_abst_fig)\n",
    "\n",
    "# Save the modified YAML file\n",
    "with open(config_path, \"w\") as file:\n",
    "    yaml.dump(config, file, default_flow_style=False)"
   ]
  },
  {
   "cell_type": "markdown",
   "metadata": {},
   "source": [
    "### 2.5. Stremlit report with the extended configuration file\n",
    "\n",
    "To launch the Streamlit web application from Colab, open the generated URL and copy the localtunnel entry point IP into the corresponding field on the opened page. Once submited, you will be redirected to your Streamlit web application."
   ]
  },
  {
   "cell_type": "code",
   "execution_count": null,
   "metadata": {},
   "outputs": [],
   "source": [
    "# Test the changes by generarating the report from the modified YAML file\n",
    "report_type = \"streamlit\"\n",
    "_ = report_generator.get_report(\n",
    "    config_path=config_path, report_type=report_type, logger=None\n",
    ")"
   ]
  },
  {
   "cell_type": "code",
   "execution_count": null,
   "metadata": {
    "tags": [
     "hide-output"
    ]
   },
   "outputs": [],
   "source": [
    "run_streamlit = False\n",
    "# run_streamlit = True # uncomment line to run the streamlit report\n",
    "# Launch the Streamlit report depneding on the platform\n",
    "if not IN_COLAB and run_streamlit:\n",
    "    !streamlit run streamlit_report/sections/report_manager.py\n",
    "elif run_streamlit:\n",
    "    # see: https://discuss.streamlit.io/t/how-to-launch-streamlit-app-from-google-colab-notebook/42399\n",
    "    print(\n",
    "        \"Password/Enpoint IP for localtunnel is:\",\n",
    "        urllib.request.urlopen(\"https://ipv4.icanhazip.com\")\n",
    "        .read()\n",
    "        .decode(\"utf8\")\n",
    "        .strip(\"\\n\"),\n",
    "    )\n",
    "    # Run the Streamlit app in the background\n",
    "    !streamlit run streamlit_report/sections/report_manager.py --server.address=localhost &>/content/logs.txt &\n",
    "    # Expose the Streamlit app on port 8501\n",
    "    !npx localtunnel --port 8501 --subdomain vuegen-demo\n",
    "else:\n",
    "    print(\"Streamlit report not executed, set run_streamlit to True to run the report\")"
   ]
  },
  {
   "cell_type": "markdown",
   "metadata": {},
   "source": [
    "### 2.6. HTML and other report types with the extended configuration file"
   ]
  },
  {
   "cell_type": "code",
   "execution_count": null,
   "metadata": {
    "tags": [
     "hide-output"
    ]
   },
   "outputs": [],
   "source": [
    "# Test the changes by generarating the report from the modified YAML file\n",
    "report_type = \"html\"\n",
    "_ = report_generator.get_report(\n",
    "    config_path=config_path, report_type=report_type, logger=None\n",
    ")"
   ]
  }
 ],
 "metadata": {
  "kernelspec": {
   "display_name": "vuegen_py312",
   "language": "python",
   "name": "python3"
  },
  "language_info": {
   "codemirror_mode": {
    "name": "ipython",
    "version": 3
   },
   "file_extension": ".py",
   "mimetype": "text/x-python",
   "name": "python",
   "nbconvert_exporter": "python",
   "pygments_lexer": "ipython3",
   "version": "3.12.9"
  }
 },
 "nbformat": 4,
 "nbformat_minor": 2
}

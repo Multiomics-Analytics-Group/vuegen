{
 "cells": [
  {
   "cell_type": "markdown",
   "metadata": {},
   "source": [
    "# VueGen\n",
    "\n",
    "VueGen is a Python library that automates the creation of reports based on a YAML configuration file.  This configuration file specifies the structure of the report, including sections, subsections, and various components such as plots, dataframes, markdown, and API calls. Reports can be generated in various formats, including documents (PDF, HTML, DOCX, ODT), presentations (PPTX, Reveal.js), notebooks (Jupyter) or Streamlit web applications.\n",
    "\n",
    "<!---\n",
    "An overview of the VueGen workflow is shown in the figure below:\n",
    "\n",
    "![Vuegen graphical abstarct](./images/vuegen_graph_abstract.png)\n",
    "\n",
    "Also, the class diagram for the project is presented below to illustrate the architecture and relationships between classes:\n",
    "\n",
    "![Vuegen class diagram](./images/vuegen_classdiagram_noattmeth.png)\n",
    "-->\n"
   ]
  },
  {
   "cell_type": "code",
   "execution_count": null,
   "metadata": {},
   "outputs": [],
   "source": [
    "from vuegen import report_generator\n",
    "from vuegen.utils import get_logger, load_yaml_config"
   ]
  },
  {
   "cell_type": "markdown",
   "metadata": {},
   "source": [
    "## Create a report\n",
    "To generate different report types, just modify the report_type variable. The available types are: \n",
    "* streamlit\n",
    "* html\n",
    "* pdf\n",
    "* docx\n",
    "* odt\n",
    "* revealjs\n",
    "* pptx\n",
    "* jupyter"
   ]
  },
  {
   "cell_type": "code",
   "execution_count": null,
   "metadata": {},
   "outputs": [],
   "source": [
    "# Load the YAML configuration file with the report metadata\n",
    "config_path = \"../example_data/MicW2Graph/report_config_micw2graph.yaml\"\n",
    "report_config = load_yaml_config(config_path)\n",
    "\n",
    "# Define logger suffix based on report engine, type and name\n",
    "report_type = \"html\"\n",
    "report_name = report_config['report'].get('name')\n",
    "\n",
    "# Initialize logger\n",
    "logger = get_logger(f\"{report_type}_report_{report_name}\")\n",
    "\n",
    "# Generate the report\n",
    "# report_generator.get_report(config = report_config, report_type = report_type, logger = logger)"
   ]
  }
 ],
 "metadata": {
  "kernelspec": {
   "display_name": "vuegen",
   "language": "python",
   "name": "python3"
  },
  "language_info": {
   "codemirror_mode": {
    "name": "ipython",
    "version": 3
   },
   "file_extension": ".py",
   "mimetype": "text/x-python",
   "name": "python",
   "nbconvert_exporter": "python",
   "pygments_lexer": "ipython3",
   "version": "3.9.21"
  }
 },
 "nbformat": 4,
 "nbformat_minor": 2
}

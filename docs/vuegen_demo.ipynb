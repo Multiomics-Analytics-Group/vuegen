{
 "cells": [
  {
   "cell_type": "markdown",
   "metadata": {},
   "source": [
    "# VueGen\n",
    "\n",
    "VueGen is a Python library that automates the creation of reports based on a YAML configuration file.  This configuration file specifies the structure of the report, including sections, subsections, and various components such as plots, dataframes, markdown, and API calls. Reports can be generated in various formats, including documents (PDF, HTML, DOCX, ODT), presentations (PPTX, Reveal.js), notebooks (Jupyter) or Streamlit web applications.\n",
    "\n",
    "<!---\n",
    "An overview of the VueGen workflow is shown in the figure below:\n",
    "\n",
    "![Vuegen graphical abstarct](./images/vuegen_graph_abstract.png)\n",
    "\n",
    "Also, the class diagram for the project is presented below to illustrate the architecture and relationships between classes:\n",
    "\n",
    "![Vuegen class diagram](./images/vuegen_classdiagram_noattmeth.png)\n",
    "-->\n"
   ]
  },
  {
   "cell_type": "code",
   "execution_count": 1,
   "metadata": {},
   "outputs": [],
   "source": [
    "import sys\n",
    "import os  \n",
    "# Get the absolute path to the root directory\n",
    "working_dir = os.getcwd()\n",
    "project_root = os.path.abspath(os.path.join(working_dir, '..'))\n",
    "\n",
    "# Check if the current directory is \"docs\" and change to project_root if true\n",
    "if os.path.basename(working_dir) == 'docs':\n",
    "    os.chdir(project_root)\n",
    "\n",
    "# Add vuegen to the Python path\n",
    "sys.path.append(os.path.join(project_root, 'vuegen'))\n",
    "\n",
    "import report_generator\n",
    "from utils import get_logger, load_yaml_config"
   ]
  },
  {
   "cell_type": "markdown",
   "metadata": {},
   "source": [
    "## Create a report\n",
    "To generate different report types, just modify the report_type variable. The available types are: \n",
    "* streamlit\n",
    "* html\n",
    "* pdf\n",
    "* docx\n",
    "* odt\n",
    "* revealjs\n",
    "* pptx\n",
    "* jupyter"
   ]
  },
  {
   "cell_type": "code",
   "execution_count": 4,
   "metadata": {},
   "outputs": [
    {
     "name": "stdout",
     "output_type": "stream",
     "text": [
      "[2024-12-02 12:18:51,947] root: INFO - Path to log file: logs/2024122_121851_html_report_None.log\n",
      "[2024-12-02 12:18:51,948] root: INFO - Report 'MicW2Graph' initialized with 3 sections.\n",
      "[2024-12-02 12:18:51,948] root: DEBUG - Generating 'html' report in directory: 'quarto_report'\n",
      "[2024-12-02 12:18:51,949] root: DEBUG - Output directory already existed: 'quarto_report'\n",
      "[2024-12-02 12:18:51,949] root: INFO - Output directory for static content already existed: 'quarto_report/static'\n",
      "[2024-12-02 12:18:51,950] root: INFO - Starting to generate sections for the report.\n",
      "[2024-12-02 12:18:51,950] root: DEBUG - Processing section: 'Exploratory Data Analysis' - 3 subsection(s)\n",
      "[2024-12-02 12:18:51,951] root: DEBUG - Processing subsection: 'Abundance data' - 4 component(s)\n",
      "[2024-12-02 12:18:51,951] root: INFO - Successfully generated content for plot: 'Top 5 species by biome (plotly)'\n",
      "[2024-12-02 12:18:51,952] root: INFO - Successfully generated content for plot: 'Multiline plot (altair)'\n",
      "[2024-12-02 12:18:51,952] root: INFO - Successfully generated content for DataFrame: 'Abundance data for all studies (csv)'\n",
      "[2024-12-02 12:18:51,953] root: INFO - Successfully generated content for DataFrame: 'Abundance data for all studies (excel)'\n",
      "[2024-12-02 12:18:51,953] root: INFO - Generated content and imports for subsection: 'Abundance data'\n",
      "[2024-12-02 12:18:51,954] root: DEBUG - Processing subsection: 'Sample data' - 4 component(s)\n",
      "[2024-12-02 12:18:51,955] root: INFO - Successfully generated content for plot: 'Number of samples per study (png)'\n",
      "[2024-12-02 12:18:51,955] root: INFO - Successfully generated content for plot: 'Sampling countries for all studies (plotly)'\n",
      "[2024-12-02 12:18:51,955] root: INFO - Successfully generated content for DataFrame: 'Sample data for all studies (txt)'\n",
      "[2024-12-02 12:18:51,956] root: INFO - Successfully generated content for DataFrame: 'Sample data for all studies (parquet)'\n",
      "[2024-12-02 12:18:51,956] root: INFO - Generated content and imports for subsection: 'Sample data'\n",
      "[2024-12-02 12:18:51,957] root: DEBUG - Processing subsection: 'Extra information' - 1 component(s)\n",
      "[2024-12-02 12:18:51,958] root: INFO - Successfully generated content for Markdown: 'Markdown example'\n",
      "[2024-12-02 12:18:51,959] root: INFO - Generated content and imports for subsection: 'Extra information'\n",
      "[2024-12-02 12:18:51,959] root: DEBUG - Processing section: 'Microbial Association Networks' - 3 subsection(s)\n",
      "[2024-12-02 12:18:51,960] root: DEBUG - Processing subsection: 'Network Visualization1' - 1 component(s)\n",
      "[2024-12-02 12:18:51,963] root: INFO - Successfully read network from file: example_data/MicW2Graph/man_example.graphml.\n",
      "[2024-12-02 12:18:51,979] root: INFO - PyVis network created and saved as: quarto_report/static/Network1_(graphml).html.\n",
      "[2024-12-02 12:18:51,980] root: INFO - Successfully generated content for plot: 'Network1 (graphml)'\n",
      "[2024-12-02 12:18:51,980] root: INFO - Generated content and imports for subsection: 'Network Visualization1'\n",
      "[2024-12-02 12:18:51,980] root: DEBUG - Processing subsection: 'Network Visualization2' - 1 component(s)\n",
      "[2024-12-02 12:18:51,983] root: INFO - Successfully read network from file: example_data/MicW2Graph/man_example.csv.\n",
      "[2024-12-02 12:18:51,994] root: INFO - PyVis network created and saved as: quarto_report/static/Network2_(edge_list_csv).html.\n",
      "[2024-12-02 12:18:51,994] root: INFO - Successfully generated content for plot: 'Network2 (edge list csv)'\n",
      "[2024-12-02 12:18:51,994] root: INFO - Generated content and imports for subsection: 'Network Visualization2'\n",
      "[2024-12-02 12:18:51,995] root: DEBUG - Processing subsection: 'Edge list' - 1 component(s)\n",
      "[2024-12-02 12:18:51,995] root: INFO - Successfully generated content for DataFrame: 'Edge list (csv)'\n",
      "[2024-12-02 12:18:51,995] root: INFO - Generated content and imports for subsection: 'Edge list'\n",
      "[2024-12-02 12:18:51,995] root: DEBUG - Processing section: 'APICall test' - 1 subsection(s)\n",
      "[2024-12-02 12:18:51,996] root: DEBUG - Processing subsection: 'Simple test' - 1 component(s)\n",
      "[2024-12-02 12:18:51,996] root: WARNING - Unsupported component type 'apicall' in subsection: Simple test\n",
      "[2024-12-02 12:18:51,996] root: INFO - Generated content and imports for subsection: 'Simple test'\n",
      "[2024-12-02 12:18:51,997] root: INFO - Created qmd script to render the app: quarto_report.qmd\n"
     ]
    },
    {
     "name": "stderr",
     "output_type": "stream",
     "text": [
      "\n",
      "Starting python3 kernel...Done\n",
      "\n",
      "Executing 'quarto_report.quarto_ipynb'\n",
      "  Cell 1/10: 'Imports'.......................................Done\n",
      "  Cell 2/10: 'Top 5 species by biome (plotly)'...............Done\n",
      "  Cell 3/10: 'Multiline plot (altair)'.......................Done\n",
      "  Cell 4/10: 'Abundance data for all studies (csv)'..........Done\n",
      "  Cell 5/10: 'Abundance data for all studies (excel)'........Done\n",
      "  Cell 6/10: 'Sampling countries for all studies (plotly)'...Done\n",
      "  Cell 7/10: 'Sample data for all studies (txt)'.............Done\n",
      "  Cell 8/10: 'Sample data for all studies (parquet)'.........Done\n",
      "  Cell 9/10: 'Markdown example'..............................Done\n",
      "  Cell 10/10: 'Edge list (csv)'...............................Done\n",
      "\n",
      "\u001b[1mpandoc \u001b[22m\n",
      "  to: html\n",
      "  output-file: quarto_report.html\n",
      "  standalone: true\n",
      "  self-contained: true\n",
      "  section-divs: true\n",
      "  html-math-method: mathjax\n",
      "  wrap: none\n",
      "  default-image-extension: png\n",
      "  toc: true\n",
      "  toc-depth: 3\n",
      "  \n",
      "\u001b[1mmetadata\u001b[22m\n",
      "  document-css: false\n",
      "  link-citations: true\n",
      "  date-format: long\n",
      "  lang: en\n",
      "  title: MicW2Graph\n",
      "  toc-location: left\n",
      "  page-layout: full\n",
      "  \n",
      "\u001b[33mWARNING (/Applications/quarto/share/filters/main.lua:9305) Unable to parse table from raw html block: skipping.\n",
      "\u001b[39m\u001b[33mWARNING (/Applications/quarto/share/filters/main.lua:9305) Unable to parse table from raw html block: skipping.\n",
      "\u001b[39m\u001b[33mWARNING (/Applications/quarto/share/filters/main.lua:9305) Unable to parse table from raw html block: skipping.\n",
      "\u001b[39m\u001b[33mWARNING (/Applications/quarto/share/filters/main.lua:9305) Unable to parse table from raw html block: skipping.\n",
      "\u001b[39m\u001b[33mWARNING (/Applications/quarto/share/filters/main.lua:9305) Unable to parse table from raw html block: skipping.\n",
      "\u001b[39m"
     ]
    },
    {
     "name": "stdout",
     "output_type": "stream",
     "text": [
      "[2024-12-02 12:19:01,988] root: INFO - 'MicW2Graph' 'html' report rendered\n"
     ]
    },
    {
     "name": "stderr",
     "output_type": "stream",
     "text": [
      "Output created: quarto_report.html\n",
      "\n"
     ]
    }
   ],
   "source": [
    "# Load the YAML configuration file with the report metadata\n",
    "config_path = \"report_config_micw2graph.yaml\"\n",
    "report_config = load_yaml_config(config_path)\n",
    "\n",
    "# Define logger suffix based on report engine, type and name\n",
    "report_type = \"html\"\n",
    "report_name = report_config['report'].get('name')\n",
    "\n",
    "# Initialize logger\n",
    "logger = get_logger(f\"{report_type}_report_{report_name}\")\n",
    "\n",
    "# Generate the report\n",
    "report_generator.get_report(config = report_config, report_type = report_type, logger = logger)"
   ]
  }
 ],
 "metadata": {
  "kernelspec": {
   "display_name": "report-generator-IFxaxej_-py3.12",
   "language": "python",
   "name": "python3"
  },
  "language_info": {
   "codemirror_mode": {
    "name": "ipython",
    "version": 3
   },
   "file_extension": ".py",
   "mimetype": "text/x-python",
   "name": "python",
   "nbconvert_exporter": "python",
   "pygments_lexer": "ipython3",
   "version": "3.12.6"
  }
 },
 "nbformat": 4,
 "nbformat_minor": 2
}

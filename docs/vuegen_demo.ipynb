{
 "cells": [
  {
   "cell_type": "markdown",
   "metadata": {},
   "source": [
    "# VueGen\n",
    "\n",
    "VueGen is a Python library that automates the creation of reports based on a YAML configuration file.  This configuration file specifies the structure of the report, including sections, subsections, and various components such as plots, dataframes, markdown, and API calls. Reports can be generated in various formats, including documents (PDF, HTML, DOCX, ODT), presentations (PPTX, Reveal.js), notebooks (Jupyter) or Streamlit web applications.\n",
    "\n",
    "An overview of the VueGen workflow is shown in the figure below:\n",
    "\n",
    "![Vuegen graphical abstarct](images/vuegen_graph_abstract.png)\n",
    "\n",
    "Also, the class diagram for the project is presented below to illustrate the architecture and relationships between classes:\n",
    "\n",
    "![Vuegen class diagram](images/vuegen_classdiagram_noattmeth.png)\n"
   ]
  },
  {
   "cell_type": "code",
   "execution_count": 2,
   "metadata": {},
   "outputs": [],
   "source": [
    "import sys\n",
    "import os  \n",
    "# Get the absolute path to the report_generator directory\n",
    "working_dir = os.getcwd()\n",
    "project_root = os.path.abspath(os.path.join(working_dir, '..'))\n",
    "\n",
    "# Check if the current directory is \"notebooks\" and change to project_root if true\n",
    "if os.path.basename(working_dir) == 'docs':\n",
    "    os.chdir(project_root)\n",
    "\n",
    "# Add vuegen to the Python path\n",
    "sys.path.append(os.path.join(project_root, 'vuegen'))\n",
    "\n",
    "# Vuegen imports\n",
    "from streamlit_reportview import StreamlitReportView\n",
    "from quarto_reportview import QuartoReportView, ReportFormat\n",
    "from metadata_manager import MetadataManager\n",
    "from report import ReportType\n",
    "from utils import assert_enum_value"
   ]
  },
  {
   "cell_type": "code",
   "execution_count": 3,
   "metadata": {},
   "outputs": [
    {
     "name": "stdout",
     "output_type": "stream",
     "text": [
      "[2024-11-20 16:58:35,796] root: INFO - Path to log file: logs/20241120_165835_streamlit_report_MicW2Graph.log\n",
      "[2024-11-20 16:58:35,796] root: INFO - Report 'MicW2Graph' initialized with 2 sections.\n"
     ]
    }
   ],
   "source": [
    "# Load report object and  metadata from YAML file\n",
    "yaml_manager = MetadataManager()\n",
    "report, report_metadata = yaml_manager.load_report_metadata('report_metadata_micw2graph.yaml')"
   ]
  },
  {
   "cell_type": "code",
   "execution_count": 26,
   "metadata": {},
   "outputs": [
    {
     "name": "stdout",
     "output_type": "stream",
     "text": [
      "[2024-11-20 14:39:53,183] root: DEBUG - Generating 'streamlit' report in directory: 'streamlit_report/sections'\n",
      "[2024-11-20 14:39:53,185] root: INFO - Created output directory: 'streamlit_report/sections'\n",
      "[2024-11-20 14:39:53,186] root: INFO - Created output directory for static content: 'streamlit_report/static'\n",
      "[2024-11-20 14:39:53,188] root: DEBUG - Processing app navigation code.\n",
      "[2024-11-20 14:39:53,188] root: DEBUG - Processing home section.\n",
      "[2024-11-20 14:39:53,190] root: DEBUG - Created home directory: streamlit_report/sections/Home\n",
      "[2024-11-20 14:39:53,191] root: INFO - Home page content written to 'streamlit_report/sections/Home/Homepage.py'.\n",
      "[2024-11-20 14:39:53,191] root: INFO - Home page added to the report manager content.\n",
      "[2024-11-20 14:39:53,193] root: DEBUG - Created section directory: streamlit_report/sections/Exploratory_Data_analysis\n",
      "[2024-11-20 14:39:53,194] root: DEBUG - Created section directory: streamlit_report/sections/Microbial_Association_Networks\n",
      "[2024-11-20 14:39:53,195] root: INFO - Created app navigation script: report_manager.py\n",
      "[2024-11-20 14:39:53,196] root: INFO - Starting to generate sections for the report.\n",
      "[2024-11-20 14:39:53,196] root: DEBUG - Processing section: 'Exploratory Data analysis' - 3 subsection(s)\n",
      "[2024-11-20 14:39:53,197] root: DEBUG - Processing subsection: 'Abundance data - 4 component(s)'\n",
      "[2024-11-20 14:39:53,198] root: INFO - Successfully generated content for plot: 'plotly_plot1'\n",
      "[2024-11-20 14:39:53,198] root: INFO - Successfully generated content for plot: 'altair_plot1'\n",
      "[2024-11-20 14:39:53,199] root: INFO - Successfully generated content for DataFrame: 'Abundance data for all studies (csv)'\n",
      "[2024-11-20 14:39:53,199] root: INFO - Successfully generated content for DataFrame: 'Abundance data for all studies (excel)'\n",
      "[2024-11-20 14:39:53,200] root: INFO - Generated content and imports for subsection: 'Abundance data'\n",
      "[2024-11-20 14:39:53,201] root: INFO - Subsection file created: 'streamlit_report/sections/Exploratory_Data_analysis/Abundance_data.py'\n",
      "[2024-11-20 14:39:53,201] root: DEBUG - Processing subsection: 'Sample data - 4 component(s)'\n",
      "[2024-11-20 14:39:53,201] root: INFO - Successfully generated content for plot: 'png_plot1'\n",
      "[2024-11-20 14:39:53,202] root: INFO - Successfully generated content for plot: 'plotly_plot2'\n",
      "[2024-11-20 14:39:53,202] root: INFO - Successfully generated content for DataFrame: 'Sample data for all studies (txt)'\n",
      "[2024-11-20 14:39:53,202] root: INFO - Successfully generated content for DataFrame: 'Sample data for all studies (parquet)'\n",
      "[2024-11-20 14:39:53,203] root: INFO - Generated content and imports for subsection: 'Sample data'\n",
      "[2024-11-20 14:39:53,204] root: INFO - Subsection file created: 'streamlit_report/sections/Exploratory_Data_analysis/Sample_data.py'\n",
      "[2024-11-20 14:39:53,204] root: DEBUG - Processing subsection: 'Extra information - 1 component(s)'\n",
      "[2024-11-20 14:39:53,204] root: INFO - Successfully generated content for Markdown: 'Markdown example'\n",
      "[2024-11-20 14:39:53,205] root: INFO - Generated content and imports for subsection: 'Extra information'\n",
      "[2024-11-20 14:39:53,206] root: INFO - Subsection file created: 'streamlit_report/sections/Exploratory_Data_analysis/Extra_information.py'\n",
      "[2024-11-20 14:39:53,206] root: DEBUG - Processing section: 'Microbial Association Networks' - 3 subsection(s)\n",
      "[2024-11-20 14:39:53,206] root: DEBUG - Processing subsection: 'Network Visualization1 - 1 component(s)'\n",
      "[2024-11-20 14:39:53,209] root: INFO - Successfully read network from file: example_data/MicW2Graph/man_example.graphml.\n",
      "[2024-11-20 14:39:53,223] root: INFO - PyVis network created and saved as: streamlit_report/static/network1.html.\n",
      "[2024-11-20 14:39:53,223] root: INFO - Successfully generated content for plot: 'network1'\n",
      "[2024-11-20 14:39:53,224] root: INFO - Generated content and imports for subsection: 'Network Visualization1'\n",
      "[2024-11-20 14:39:53,225] root: INFO - Subsection file created: 'streamlit_report/sections/Microbial_Association_Networks/Network_Visualization1.py'\n",
      "[2024-11-20 14:39:53,225] root: DEBUG - Processing subsection: 'Network Visualization2 - 1 component(s)'\n",
      "[2024-11-20 14:39:53,227] root: INFO - Successfully read network from file: example_data/MicW2Graph/man_example.csv.\n",
      "[2024-11-20 14:39:53,239] root: INFO - PyVis network created and saved as: streamlit_report/static/network2.html.\n",
      "[2024-11-20 14:39:53,239] root: INFO - Successfully generated content for plot: 'network2'\n",
      "[2024-11-20 14:39:53,240] root: INFO - Generated content and imports for subsection: 'Network Visualization2'\n",
      "[2024-11-20 14:39:53,241] root: INFO - Subsection file created: 'streamlit_report/sections/Microbial_Association_Networks/Network_Visualization2.py'\n",
      "[2024-11-20 14:39:53,241] root: DEBUG - Processing subsection: 'Edge list - 1 component(s)'\n",
      "[2024-11-20 14:39:53,241] root: INFO - Successfully generated content for DataFrame: 'Edge list (csv)'\n",
      "[2024-11-20 14:39:53,241] root: INFO - Generated content and imports for subsection: 'Edge list'\n",
      "[2024-11-20 14:39:53,243] root: INFO - Subsection file created: 'streamlit_report/sections/Microbial_Association_Networks/Edge_list.py'\n",
      "[2024-11-20 14:39:53,243] root: INFO - Running 'MicW2Graph' streamlit report.\n",
      "\n",
      "  You can now view your Streamlit app in your browser.\n",
      "\n",
      "  Local URL: http://localhost:8501\n",
      "  Network URL: http://10.75.1.159:8501\n",
      "\n",
      "Streamlit process interrupted.\n"
     ]
    }
   ],
   "source": [
    "# Streamlit report\n",
    "st_report = StreamlitReportView(report_metadata['report']['id'], \n",
    "                                                report_metadata['report']['name'], \n",
    "                                                report=report, \n",
    "                                                report_type = assert_enum_value(ReportType, report_metadata['report']['report_type'], report.logger),\n",
    "                                                columns=None)\n",
    "st_report.generate_report()\n",
    "st_report.run_report()"
   ]
  },
  {
   "cell_type": "code",
   "execution_count": 27,
   "metadata": {},
   "outputs": [
    {
     "name": "stdout",
     "output_type": "stream",
     "text": [
      "[2024-11-20 14:40:41,831] root: INFO - Path to log file: logs/20241120_144041_document_report_MicW2Graph.log\n",
      "[2024-11-20 14:40:41,832] root: INFO - Report 'MicW2Graph' initialized with 2 sections.\n"
     ]
    }
   ],
   "source": [
    "# Chnge the report type and format in the yaml file and load it again\n",
    "report, report_metadata = yaml_manager.load_report_metadata('report_metadata_micw2graph.yaml')"
   ]
  },
  {
   "cell_type": "code",
   "execution_count": 28,
   "metadata": {},
   "outputs": [
    {
     "name": "stdout",
     "output_type": "stream",
     "text": [
      "[2024-11-20 14:41:00,937] root: DEBUG - Generating 'document' report with 'html' format in directory: 'quarto_report'\n",
      "[2024-11-20 14:41:00,939] root: DEBUG - Created output directory: 'quarto_report'\n",
      "[2024-11-20 14:41:00,941] root: INFO - Created output directory for static content: 'quarto_report/static'\n",
      "[2024-11-20 14:41:00,942] root: INFO - Starting to generate sections for the report.\n",
      "[2024-11-20 14:41:00,942] root: DEBUG - Processing section: 'Exploratory Data analysis' - 3 subsection(s)\n",
      "[2024-11-20 14:41:00,943] root: DEBUG - Processing subsection: 'Abundance data' - 4 component(s)\n",
      "[2024-11-20 14:41:00,943] root: INFO - Successfully generated content for plot: 'plotly_plot1'\n",
      "[2024-11-20 14:41:00,944] root: INFO - Successfully generated content for plot: 'altair_plot1'\n",
      "[2024-11-20 14:41:00,944] root: INFO - Successfully generated content for DataFrame: 'Abundance data for all studies (csv)'\n",
      "[2024-11-20 14:41:00,945] root: INFO - Successfully generated content for DataFrame: 'Abundance data for all studies (excel)'\n",
      "[2024-11-20 14:41:00,945] root: INFO - Generated content and imports for subsection: 'Abundance data'\n",
      "[2024-11-20 14:41:00,946] root: DEBUG - Processing subsection: 'Sample data' - 4 component(s)\n",
      "[2024-11-20 14:41:00,946] root: INFO - Successfully generated content for plot: 'png_plot1'\n",
      "[2024-11-20 14:41:00,947] root: INFO - Successfully generated content for plot: 'plotly_plot2'\n",
      "[2024-11-20 14:41:00,947] root: INFO - Successfully generated content for DataFrame: 'Sample data for all studies (txt)'\n",
      "[2024-11-20 14:41:00,948] root: INFO - Successfully generated content for DataFrame: 'Sample data for all studies (parquet)'\n",
      "[2024-11-20 14:41:00,948] root: INFO - Generated content and imports for subsection: 'Sample data'\n",
      "[2024-11-20 14:41:00,949] root: DEBUG - Processing subsection: 'Extra information' - 1 component(s)\n",
      "[2024-11-20 14:41:00,949] root: INFO - Successfully generated content for Markdown: 'Markdown example'\n",
      "[2024-11-20 14:41:00,950] root: INFO - Generated content and imports for subsection: 'Extra information'\n",
      "[2024-11-20 14:41:00,950] root: DEBUG - Processing section: 'Microbial Association Networks' - 3 subsection(s)\n",
      "[2024-11-20 14:41:00,951] root: DEBUG - Processing subsection: 'Network Visualization1' - 1 component(s)\n",
      "[2024-11-20 14:41:00,954] root: INFO - Successfully read network from file: example_data/MicW2Graph/man_example.graphml.\n",
      "[2024-11-20 14:41:00,970] root: INFO - PyVis network created and saved as: quarto_report/static/network1.html.\n",
      "[2024-11-20 14:41:00,971] root: INFO - Successfully generated content for plot: 'network1'\n",
      "[2024-11-20 14:41:00,971] root: INFO - Generated content and imports for subsection: 'Network Visualization1'\n",
      "[2024-11-20 14:41:00,972] root: DEBUG - Processing subsection: 'Network Visualization2' - 1 component(s)\n",
      "[2024-11-20 14:41:00,975] root: INFO - Successfully read network from file: example_data/MicW2Graph/man_example.csv.\n",
      "[2024-11-20 14:41:00,986] root: INFO - PyVis network created and saved as: quarto_report/static/network2.html.\n",
      "[2024-11-20 14:41:00,986] root: INFO - Successfully generated content for plot: 'network2'\n",
      "[2024-11-20 14:41:00,986] root: INFO - Generated content and imports for subsection: 'Network Visualization2'\n",
      "[2024-11-20 14:41:00,987] root: DEBUG - Processing subsection: 'Edge list' - 1 component(s)\n",
      "[2024-11-20 14:41:00,987] root: INFO - Successfully generated content for DataFrame: 'Edge list (csv)'\n",
      "[2024-11-20 14:41:00,988] root: INFO - Generated content and imports for subsection: 'Edge list'\n",
      "[2024-11-20 14:41:00,989] root: INFO - Created qmd script to render the app: quarto_report.qmd\n"
     ]
    },
    {
     "name": "stderr",
     "output_type": "stream",
     "text": [
      "\n",
      "Executing 'quarto_report.quarto_ipynb'\n",
      "  Cell 1/10: 'Imports'........Done\n",
      "  Cell 2/10: 'plotly_plot1'...Done\n",
      "  Cell 3/10: 'altair_plot1'...Done\n",
      "  Cell 4/10: 'df1'............Done\n",
      "  Cell 5/10: 'df2'............Done\n",
      "  Cell 6/10: 'plotly_plot2'...Done\n",
      "  Cell 7/10: 'df3'............Done\n",
      "  Cell 8/10: 'df4'............Done\n",
      "  Cell 9/10: 'md1'............Done\n",
      "  Cell 10/10: 'df5'............Done\n",
      "\n",
      "\u001b[1mpandoc \u001b[22m\n",
      "  to: html\n",
      "  output-file: quarto_report.html\n",
      "  standalone: true\n",
      "  self-contained: true\n",
      "  section-divs: true\n",
      "  html-math-method: mathjax\n",
      "  wrap: none\n",
      "  default-image-extension: png\n",
      "  toc: true\n",
      "  toc-depth: 3\n",
      "  \n",
      "\u001b[1mmetadata\u001b[22m\n",
      "  document-css: false\n",
      "  link-citations: true\n",
      "  date-format: long\n",
      "  lang: en\n",
      "  title: MicW2Graph\n",
      "  toc-location: left\n",
      "  page-layout: full\n",
      "  \n",
      "\u001b[33mWARNING (/Applications/quarto/share/filters/main.lua:9305) Unable to parse table from raw html block: skipping.\n",
      "\u001b[39m\u001b[33mWARNING (/Applications/quarto/share/filters/main.lua:9305) Unable to parse table from raw html block: skipping.\n",
      "\u001b[39m\u001b[33mWARNING (/Applications/quarto/share/filters/main.lua:9305) Unable to parse table from raw html block: skipping.\n",
      "\u001b[39m\u001b[33mWARNING (/Applications/quarto/share/filters/main.lua:9305) Unable to parse table from raw html block: skipping.\n",
      "\u001b[39m\u001b[33mWARNING (/Applications/quarto/share/filters/main.lua:9305) Unable to parse table from raw html block: skipping.\n",
      "\u001b[39m"
     ]
    },
    {
     "name": "stdout",
     "output_type": "stream",
     "text": [
      "[2024-11-20 14:41:07,325] root: INFO - 'MicW2Graph' document report rendered with the html format\n"
     ]
    },
    {
     "name": "stderr",
     "output_type": "stream",
     "text": [
      "Output created: quarto_report.html\n",
      "\n"
     ]
    }
   ],
   "source": [
    "# Html document report\n",
    "doc_report = QuartoReportView(report_metadata['report']['id'], \n",
    "                                            report_metadata['report']['name'], \n",
    "                                            report=report, \n",
    "                                            report_type = assert_enum_value(ReportType, report_metadata['report']['report_type'], report.logger),\n",
    "                                            report_format = assert_enum_value(ReportFormat, report_metadata['report']['report_format'], report.logger),\n",
    "                                            columns=None)\n",
    "doc_report.generate_report()\n",
    "doc_report.run_report()"
   ]
  }
 ],
 "metadata": {
  "kernelspec": {
   "display_name": "report-generator-eB51uIq6-py3.12",
   "language": "python",
   "name": "python3"
  },
  "language_info": {
   "codemirror_mode": {
    "name": "ipython",
    "version": 3
   },
   "file_extension": ".py",
   "mimetype": "text/x-python",
   "name": "python",
   "nbconvert_exporter": "python",
   "pygments_lexer": "ipython3",
   "version": "3.12.6"
  }
 },
 "nbformat": 4,
 "nbformat_minor": 2
}

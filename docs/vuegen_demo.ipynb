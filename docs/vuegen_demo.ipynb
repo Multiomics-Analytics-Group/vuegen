{
 "cells": [
  {
   "cell_type": "markdown",
   "metadata": {},
   "source": [
    "# VueGen\n",
    "\n",
    "VueGen is a Python library that automates the creation of reports based on a YAML configuration file.  This configuration file specifies the structure of the report, including sections, subsections, and various components such as plots, dataframes, markdown, and API calls. Reports can be generated in various formats, including documents (PDF, HTML, DOCX, ODT), presentations (PPTX, Reveal.js), notebooks (Jupyter) or Streamlit web applications.\n",
    "\n",
    "<!---\n",
    "An overview of the VueGen workflow is shown in the figure below:\n",
    "\n",
    "![Vuegen graphical abstarct](./images/vuegen_graph_abstract.png)\n",
    "\n",
    "Also, the class diagram for the project is presented below to illustrate the architecture and relationships between classes:\n",
    "\n",
    "![Vuegen class diagram](./images/vuegen_classdiagram_noattmeth.png)\n",
    "-->\n"
   ]
  },
  {
   "cell_type": "code",
   "execution_count": 1,
   "metadata": {},
   "outputs": [],
   "source": [
    "import sys\n",
    "import os  \n",
    "# Get the absolute path to the root directory\n",
    "working_dir = os.getcwd()\n",
    "project_root = os.path.abspath(os.path.join(working_dir, '..'))\n",
    "\n",
    "# Check if the current directory is \"docs\" and change to project_root if true\n",
    "if os.path.basename(working_dir) == 'docs':\n",
    "    os.chdir(project_root)\n",
    "\n",
    "# Add vuegen to the Python path\n",
    "sys.path.append(os.path.join(project_root, 'vuegen'))\n",
    "\n",
    "import report_generator\n",
    "from utils import get_logger, load_yaml_config"
   ]
  },
  {
   "cell_type": "markdown",
   "metadata": {},
   "source": [
    "## Streamlit report"
   ]
  },
  {
   "cell_type": "code",
   "execution_count": 2,
   "metadata": {},
   "outputs": [
    {
     "name": "stdout",
     "output_type": "stream",
     "text": [
      "[2024-11-22 18:30:32,313] root: INFO - Path to log file: logs/20241122_183032_streamlit_report_MicW2Graph.log\n",
      "[2024-11-22 18:30:32,314] root: INFO - Report 'MicW2Graph' initialized with 2 sections.\n",
      "[2024-11-22 18:30:32,315] root: DEBUG - Generating 'streamlit' report in directory: 'streamlit_report/sections'\n",
      "[2024-11-22 18:30:32,315] root: INFO - Output directory already existed: 'streamlit_report/sections'\n",
      "[2024-11-22 18:30:32,316] root: INFO - Output directory for static content already existed: 'streamlit_report/static'\n",
      "[2024-11-22 18:30:32,316] root: DEBUG - Processing app navigation code.\n",
      "[2024-11-22 18:30:32,317] root: DEBUG - Processing home section.\n",
      "[2024-11-22 18:30:32,317] root: DEBUG - Home directory already existed: streamlit_report/sections/Home\n",
      "[2024-11-22 18:30:32,318] root: INFO - Home page content written to 'streamlit_report/sections/Home/Homepage.py'.\n",
      "[2024-11-22 18:30:32,319] root: INFO - Home page added to the report manager content.\n",
      "[2024-11-22 18:30:32,319] root: DEBUG - Section directory already existed: streamlit_report/sections/Exploratory_Data_analysis\n",
      "[2024-11-22 18:30:32,320] root: DEBUG - Section directory already existed: streamlit_report/sections/Microbial_Association_Networks\n",
      "[2024-11-22 18:30:32,321] root: INFO - Created app navigation script: report_manager.py\n",
      "[2024-11-22 18:30:32,321] root: INFO - Starting to generate sections for the report.\n",
      "[2024-11-22 18:30:32,321] root: DEBUG - Processing section: 'Exploratory Data analysis' - 3 subsection(s)\n",
      "[2024-11-22 18:30:32,322] root: DEBUG - Processing subsection: 'Abundance data - 4 component(s)'\n",
      "[2024-11-22 18:30:32,322] root: INFO - Successfully generated content for plot: 'plotly_plot1'\n",
      "[2024-11-22 18:30:32,323] root: INFO - Successfully generated content for plot: 'altair_plot1'\n",
      "[2024-11-22 18:30:32,323] root: INFO - Successfully generated content for DataFrame: 'Abundance data for all studies (csv)'\n",
      "[2024-11-22 18:30:32,323] root: INFO - Successfully generated content for DataFrame: 'Abundance data for all studies (excel)'\n",
      "[2024-11-22 18:30:32,323] root: INFO - Generated content and imports for subsection: 'Abundance data'\n",
      "[2024-11-22 18:30:32,324] root: INFO - Subsection file created: 'streamlit_report/sections/Exploratory_Data_analysis/Abundance_data.py'\n",
      "[2024-11-22 18:30:32,325] root: DEBUG - Processing subsection: 'Sample data - 4 component(s)'\n",
      "[2024-11-22 18:30:32,325] root: INFO - Successfully generated content for plot: 'png_plot1'\n",
      "[2024-11-22 18:30:32,325] root: INFO - Successfully generated content for plot: 'plotly_plot2'\n",
      "[2024-11-22 18:30:32,326] root: INFO - Successfully generated content for DataFrame: 'Sample data for all studies (txt)'\n",
      "[2024-11-22 18:30:32,326] root: INFO - Successfully generated content for DataFrame: 'Sample data for all studies (parquet)'\n",
      "[2024-11-22 18:30:32,326] root: INFO - Generated content and imports for subsection: 'Sample data'\n",
      "[2024-11-22 18:30:32,327] root: INFO - Subsection file created: 'streamlit_report/sections/Exploratory_Data_analysis/Sample_data.py'\n",
      "[2024-11-22 18:30:32,329] root: DEBUG - Processing subsection: 'Extra information - 1 component(s)'\n",
      "[2024-11-22 18:30:32,329] root: INFO - Successfully generated content for Markdown: 'Markdown example'\n",
      "[2024-11-22 18:30:32,330] root: INFO - Generated content and imports for subsection: 'Extra information'\n",
      "[2024-11-22 18:30:32,331] root: INFO - Subsection file created: 'streamlit_report/sections/Exploratory_Data_analysis/Extra_information.py'\n",
      "[2024-11-22 18:30:32,331] root: DEBUG - Processing section: 'Microbial Association Networks' - 3 subsection(s)\n",
      "[2024-11-22 18:30:32,332] root: DEBUG - Processing subsection: 'Network Visualization1 - 1 component(s)'\n",
      "[2024-11-22 18:30:32,334] root: INFO - Successfully read network from file: example_data/MicW2Graph/man_example.graphml.\n",
      "[2024-11-22 18:30:32,348] root: INFO - PyVis network created and saved as: streamlit_report/static/network1.html.\n",
      "[2024-11-22 18:30:32,348] root: INFO - Successfully generated content for plot: 'network1'\n",
      "[2024-11-22 18:30:32,348] root: INFO - Generated content and imports for subsection: 'Network Visualization1'\n",
      "[2024-11-22 18:30:32,349] root: INFO - Subsection file created: 'streamlit_report/sections/Microbial_Association_Networks/Network_Visualization1.py'\n",
      "[2024-11-22 18:30:32,349] root: DEBUG - Processing subsection: 'Network Visualization2 - 1 component(s)'\n",
      "[2024-11-22 18:30:32,351] root: INFO - Successfully read network from file: example_data/MicW2Graph/man_example.csv.\n",
      "[2024-11-22 18:30:32,360] root: INFO - PyVis network created and saved as: streamlit_report/static/network2.html.\n",
      "[2024-11-22 18:30:32,361] root: INFO - Successfully generated content for plot: 'network2'\n",
      "[2024-11-22 18:30:32,361] root: INFO - Generated content and imports for subsection: 'Network Visualization2'\n",
      "[2024-11-22 18:30:32,362] root: INFO - Subsection file created: 'streamlit_report/sections/Microbial_Association_Networks/Network_Visualization2.py'\n",
      "[2024-11-22 18:30:32,363] root: DEBUG - Processing subsection: 'Edge list - 1 component(s)'\n",
      "[2024-11-22 18:30:32,363] root: INFO - Successfully generated content for DataFrame: 'Edge list (csv)'\n",
      "[2024-11-22 18:30:32,364] root: INFO - Generated content and imports for subsection: 'Edge list'\n",
      "[2024-11-22 18:30:32,365] root: INFO - Subsection file created: 'streamlit_report/sections/Microbial_Association_Networks/Edge_list.py'\n",
      "[2024-11-22 18:30:32,365] root: INFO - Running 'MicW2Graph' streamlit report.\n",
      "\n",
      "  You can now view your Streamlit app in your browser.\n",
      "\n",
      "  Local URL: http://localhost:8502\n",
      "  Network URL: http://192.168.8.143:8502\n",
      "\n",
      "Streamlit process interrupted.\n"
     ]
    }
   ],
   "source": [
    "# Load the YAML configuration file with the report metadata\n",
    "config_path = \"report_metadata_micw2graph.yaml\"\n",
    "report_metadata = load_yaml_config(config_path)\n",
    "\n",
    "# Define logger suffix based on report engine, type and name\n",
    "report_type = report_metadata['report'].get('report_type')\n",
    "report_name = report_metadata['report'].get('name')\n",
    "\n",
    "# Initialize logger\n",
    "logger = get_logger(f\"{report_type}_report_{report_name}\")\n",
    "\n",
    "# Generate the report\n",
    "report_generator.get_report(metadata=report_metadata, report_engine='streamlit', logger=logger)"
   ]
  },
  {
   "cell_type": "markdown",
   "metadata": {},
   "source": [
    "## Other formats"
   ]
  },
  {
   "cell_type": "code",
   "execution_count": 5,
   "metadata": {},
   "outputs": [
    {
     "name": "stdout",
     "output_type": "stream",
     "text": [
      "[2024-11-22 18:39:07,142] root: INFO - Path to log file: logs/20241122_18397_document_html_report_MicW2Graph.log\n",
      "[2024-11-22 18:39:07,142] root: INFO - Report 'MicW2Graph' initialized with 2 sections.\n",
      "[2024-11-22 18:39:07,143] root: DEBUG - Generating 'document' report with 'html' format in directory: 'quarto_report'\n",
      "[2024-11-22 18:39:07,144] root: DEBUG - Output directory already existed: 'quarto_report'\n",
      "[2024-11-22 18:39:07,144] root: INFO - Output directory for static content already existed: 'quarto_report/static'\n",
      "[2024-11-22 18:39:07,144] root: INFO - Starting to generate sections for the report.\n",
      "[2024-11-22 18:39:07,145] root: DEBUG - Processing section: 'Exploratory Data analysis' - 3 subsection(s)\n",
      "[2024-11-22 18:39:07,145] root: DEBUG - Processing subsection: 'Abundance data' - 4 component(s)\n",
      "[2024-11-22 18:39:07,146] root: INFO - Successfully generated content for plot: 'plotly_plot1'\n",
      "[2024-11-22 18:39:07,146] root: INFO - Successfully generated content for plot: 'altair_plot1'\n",
      "[2024-11-22 18:39:07,146] root: INFO - Successfully generated content for DataFrame: 'Abundance data for all studies (csv)'\n",
      "[2024-11-22 18:39:07,146] root: INFO - Successfully generated content for DataFrame: 'Abundance data for all studies (excel)'\n",
      "[2024-11-22 18:39:07,146] root: INFO - Generated content and imports for subsection: 'Abundance data'\n",
      "[2024-11-22 18:39:07,147] root: DEBUG - Processing subsection: 'Sample data' - 4 component(s)\n",
      "[2024-11-22 18:39:07,147] root: INFO - Successfully generated content for plot: 'png_plot1'\n",
      "[2024-11-22 18:39:07,147] root: INFO - Successfully generated content for plot: 'plotly_plot2'\n",
      "[2024-11-22 18:39:07,147] root: INFO - Successfully generated content for DataFrame: 'Sample data for all studies (txt)'\n",
      "[2024-11-22 18:39:07,148] root: INFO - Successfully generated content for DataFrame: 'Sample data for all studies (parquet)'\n",
      "[2024-11-22 18:39:07,148] root: INFO - Generated content and imports for subsection: 'Sample data'\n",
      "[2024-11-22 18:39:07,148] root: DEBUG - Processing subsection: 'Extra information' - 1 component(s)\n",
      "[2024-11-22 18:39:07,149] root: INFO - Successfully generated content for Markdown: 'Markdown example'\n",
      "[2024-11-22 18:39:07,149] root: INFO - Generated content and imports for subsection: 'Extra information'\n",
      "[2024-11-22 18:39:07,149] root: DEBUG - Processing section: 'Microbial Association Networks' - 3 subsection(s)\n",
      "[2024-11-22 18:39:07,149] root: DEBUG - Processing subsection: 'Network Visualization1' - 1 component(s)\n",
      "[2024-11-22 18:39:07,151] root: INFO - Successfully read network from file: example_data/MicW2Graph/man_example.graphml.\n",
      "[2024-11-22 18:39:07,162] root: INFO - PyVis network created and saved as: quarto_report/static/network1.html.\n",
      "[2024-11-22 18:39:07,163] root: INFO - Successfully generated content for plot: 'network1'\n",
      "[2024-11-22 18:39:07,163] root: INFO - Generated content and imports for subsection: 'Network Visualization1'\n",
      "[2024-11-22 18:39:07,163] root: DEBUG - Processing subsection: 'Network Visualization2' - 1 component(s)\n",
      "[2024-11-22 18:39:07,165] root: INFO - Successfully read network from file: example_data/MicW2Graph/man_example.csv.\n",
      "[2024-11-22 18:39:07,174] root: INFO - PyVis network created and saved as: quarto_report/static/network2.html.\n",
      "[2024-11-22 18:39:07,174] root: INFO - Successfully generated content for plot: 'network2'\n",
      "[2024-11-22 18:39:07,175] root: INFO - Generated content and imports for subsection: 'Network Visualization2'\n",
      "[2024-11-22 18:39:07,175] root: DEBUG - Processing subsection: 'Edge list' - 1 component(s)\n",
      "[2024-11-22 18:39:07,176] root: INFO - Successfully generated content for DataFrame: 'Edge list (csv)'\n",
      "[2024-11-22 18:39:07,176] root: INFO - Generated content and imports for subsection: 'Edge list'\n",
      "[2024-11-22 18:39:07,177] root: INFO - Created qmd script to render the app: quarto_report.qmd\n"
     ]
    },
    {
     "name": "stderr",
     "output_type": "stream",
     "text": [
      "\n",
      "Executing 'quarto_report.quarto_ipynb'\n",
      "  Cell 1/10: 'Imports'........Done\n",
      "  Cell 2/10: 'plotly_plot1'...Done\n",
      "  Cell 3/10: 'altair_plot1'...Done\n",
      "  Cell 4/10: 'df1'............Done\n",
      "  Cell 5/10: 'df2'............Done\n",
      "  Cell 6/10: 'plotly_plot2'...Done\n",
      "  Cell 7/10: 'df3'............Done\n",
      "  Cell 8/10: 'df4'............Done\n",
      "  Cell 9/10: 'md1'............Done\n",
      "  Cell 10/10: 'df5'............Done\n",
      "\n",
      "\u001b[1mpandoc \u001b[22m\n",
      "  to: html\n",
      "  output-file: quarto_report.html\n",
      "  standalone: true\n",
      "  self-contained: true\n",
      "  section-divs: true\n",
      "  html-math-method: mathjax\n",
      "  wrap: none\n",
      "  default-image-extension: png\n",
      "  toc: true\n",
      "  toc-depth: 3\n",
      "  \n",
      "\u001b[1mmetadata\u001b[22m\n",
      "  document-css: false\n",
      "  link-citations: true\n",
      "  date-format: long\n",
      "  lang: en\n",
      "  title: MicW2Graph\n",
      "  toc-location: left\n",
      "  page-layout: full\n",
      "  \n",
      "\u001b[33mWARNING (/Applications/quarto/share/filters/main.lua:9305) Unable to parse table from raw html block: skipping.\n",
      "\u001b[39m\u001b[33mWARNING (/Applications/quarto/share/filters/main.lua:9305) Unable to parse table from raw html block: skipping.\n",
      "\u001b[39m\u001b[33mWARNING (/Applications/quarto/share/filters/main.lua:9305) Unable to parse table from raw html block: skipping.\n",
      "\u001b[39m\u001b[33mWARNING (/Applications/quarto/share/filters/main.lua:9305) Unable to parse table from raw html block: skipping.\n",
      "\u001b[39m\u001b[33mWARNING (/Applications/quarto/share/filters/main.lua:9305) Unable to parse table from raw html block: skipping.\n",
      "\u001b[39m"
     ]
    },
    {
     "name": "stdout",
     "output_type": "stream",
     "text": [
      "[2024-11-22 18:39:13,847] root: INFO - 'MicW2Graph' 'document' report rendered with the 'html' format\n"
     ]
    },
    {
     "name": "stderr",
     "output_type": "stream",
     "text": [
      "Output created: quarto_report.html\n",
      "\n"
     ]
    }
   ],
   "source": [
    "# Load the YAML configuration file with the report metadata\n",
    "config_path = \"report_metadata_micw2graph.yaml\"\n",
    "report_metadata = load_yaml_config(config_path)\n",
    "\n",
    "# Define logger suffix based on report engine, type and name\n",
    "report_type = report_metadata['report'].get('report_type')\n",
    "report_format = report_metadata['report'].get('report_format')\n",
    "report_name = report_metadata['report'].get('name')\n",
    "\n",
    "# Initialize logger\n",
    "logger = get_logger(f\"{report_type}_{report_format}_report_{report_name}\")\n",
    "\n",
    "# Generate the report\n",
    "report_generator.get_report(metadata=report_metadata, report_engine='quarto', logger=logger)"
   ]
  }
 ],
 "metadata": {
  "kernelspec": {
   "display_name": "report-generator-IFxaxej_-py3.12",
   "language": "python",
   "name": "python3"
  },
  "language_info": {
   "codemirror_mode": {
    "name": "ipython",
    "version": 3
   },
   "file_extension": ".py",
   "mimetype": "text/x-python",
   "name": "python",
   "nbconvert_exporter": "python",
   "pygments_lexer": "ipython3",
   "version": "3.12.6"
  }
 },
 "nbformat": 4,
 "nbformat_minor": 2
}
